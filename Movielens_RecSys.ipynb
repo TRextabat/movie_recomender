{
 "cells": [
  {
   "cell_type": "code",
   "execution_count": 51,
   "id": "2353ae34",
   "metadata": {},
   "outputs": [
    {
     "name": "stdout",
     "output_type": "stream",
     "text": [
      "/bin/bash: line 1: PYTHONPATH:/home/user/movie_recomender/: No such file or directory\n"
     ]
    }
   ],
   "source": [
    "!export PYTHONPATH=&PYTHONPATH:/home/user/movie_recomender/"
   ]
  },
  {
   "cell_type": "code",
   "execution_count": 1,
   "id": "b771fbad",
   "metadata": {},
   "outputs": [
    {
     "name": "stdout",
     "output_type": "stream",
     "text": [
      "Requirement already satisfied: imageio in ./.movieenv/lib/python3.10/site-packages (2.33.1)\n",
      "Requirement already satisfied: numpy in ./.movieenv/lib/python3.10/site-packages (from imageio) (1.26.4)\n",
      "Requirement already satisfied: pillow>=8.3.2 in ./.movieenv/lib/python3.10/site-packages (from imageio) (10.4.0)\n",
      "\n",
      "\u001b[1m[\u001b[0m\u001b[34;49mnotice\u001b[0m\u001b[1;39;49m]\u001b[0m\u001b[39;49m A new release of pip is available: \u001b[0m\u001b[31;49m24.2\u001b[0m\u001b[39;49m -> \u001b[0m\u001b[32;49m25.1.1\u001b[0m\n",
      "\u001b[1m[\u001b[0m\u001b[34;49mnotice\u001b[0m\u001b[1;39;49m]\u001b[0m\u001b[39;49m To update, run: \u001b[0m\u001b[32;49mpip install --upgrade pip\u001b[0m\n"
     ]
    }
   ],
   "source": [
    "! pip install imageio"
   ]
  },
  {
   "cell_type": "code",
   "execution_count": 2,
   "id": "da25e987-52e9-446c-8b71-6c1042c159f5",
   "metadata": {},
   "outputs": [],
   "source": [
    "import pandas as pd\n",
    "import numpy as np\n",
    "import os\n",
    "import matplotlib.pyplot as plt\n",
    "from imageio.v3 import imread\n",
    "from collections import Counter\n",
    "from torch.utils.data import DataLoader\n",
    "import torch\n",
    "import torch.nn as nn\n",
    "from data import MovieLensSequenceDataset\n",
    "from movielens_transformer import (\n",
    "    MovieLensTransformer,\n",
    "    MovieLensTransformerConfig,\n",
    "    TransformerConfig,\n",
    ")\n",
    "import torch.nn.functional as F\n",
    "from dacite import from_dict\n",
    "import pprint\n",
    "from model_train import run_model_training, load_config, get_model_config\n",
    "from eval import (\n",
    "    get_model_predictions,\n",
    "    get_popular_movies,\n",
    "    get_popular_movie_predictions,\n",
    "    calculate_relevance,\n",
    "    calculate_metrics,\n",
    ")\n",
    "from sklearn.metrics import ndcg_score"
   ]
  },
  {
   "cell_type": "markdown",
   "id": "0b7d5317",
   "metadata": {},
   "source": []
  },
  {
   "cell_type": "markdown",
   "id": "753931e1",
   "metadata": {},
   "source": [
    "## Movielens Dataset\n",
    "\n",
    "start with reading and exploring the dataset"
   ]
  },
  {
   "cell_type": "code",
   "execution_count": 3,
   "id": "7f66ba7d-313a-451f-8894-137505e030ed",
   "metadata": {},
   "outputs": [],
   "source": [
    "users = pd.read_csv(\n",
    "    \"./data/ml-1m/users.dat\",\n",
    "    sep=\"::\",\n",
    "    names=[\"user_id\", \"sex\", \"age_group\", \"occupation\", \"zip_code\"],\n",
    "    encoding=\"ISO-8859-1\",\n",
    "    engine=\"python\",\n",
    "    dtype={\n",
    "        \"user_id\": np.int32,\n",
    "        \"sex\": \"category\",\n",
    "        \"age_group\": \"category\",\n",
    "        \"occupation\": \"category\",\n",
    "        \"zip_code\": str,\n",
    "    },\n",
    ")\n",
    "\n",
    "ratings = pd.read_csv(\n",
    "    \"./data/ml-1m/ratings.dat\",\n",
    "    sep=\"::\",\n",
    "    names=[\"user_id\", \"movie_id\", \"rating\", \"unix_timestamp\"],\n",
    "    encoding=\"ISO-8859-1\",\n",
    "    engine=\"python\",\n",
    "    dtype={\n",
    "        \"user_id\": np.int32,\n",
    "        \"movie_id\": np.int32,\n",
    "        \"rating\": np.int8,\n",
    "        \"unix_timestamp\": np.int32,\n",
    "    },\n",
    ")\n",
    "\n",
    "movies = pd.read_csv(\n",
    "    \"./data/ml-1m/movies.dat\",\n",
    "    sep=\"::\",\n",
    "    names=[\"movie_id\", \"title\", \"genres\"],\n",
    "    encoding=\"ISO-8859-1\",\n",
    "    engine=\"python\",\n",
    "    dtype={\"movie_id\": np.int32, \"title\": str, \"genres\": str},\n",
    ")"
   ]
  },
  {
   "cell_type": "code",
   "execution_count": 4,
   "id": "0f4a9eee-6b6f-4302-ae46-dc25f0e18c3a",
   "metadata": {},
   "outputs": [
    {
     "data": {
      "text/html": [
       "<div>\n",
       "<style scoped>\n",
       "    .dataframe tbody tr th:only-of-type {\n",
       "        vertical-align: middle;\n",
       "    }\n",
       "\n",
       "    .dataframe tbody tr th {\n",
       "        vertical-align: top;\n",
       "    }\n",
       "\n",
       "    .dataframe thead th {\n",
       "        text-align: right;\n",
       "    }\n",
       "</style>\n",
       "<table border=\"1\" class=\"dataframe\">\n",
       "  <thead>\n",
       "    <tr style=\"text-align: right;\">\n",
       "      <th></th>\n",
       "      <th>user_id</th>\n",
       "      <th>sex</th>\n",
       "      <th>age_group</th>\n",
       "      <th>occupation</th>\n",
       "      <th>zip_code</th>\n",
       "    </tr>\n",
       "  </thead>\n",
       "  <tbody>\n",
       "    <tr>\n",
       "      <th>0</th>\n",
       "      <td>1</td>\n",
       "      <td>F</td>\n",
       "      <td>1</td>\n",
       "      <td>10</td>\n",
       "      <td>48067</td>\n",
       "    </tr>\n",
       "    <tr>\n",
       "      <th>1</th>\n",
       "      <td>2</td>\n",
       "      <td>M</td>\n",
       "      <td>56</td>\n",
       "      <td>16</td>\n",
       "      <td>70072</td>\n",
       "    </tr>\n",
       "    <tr>\n",
       "      <th>2</th>\n",
       "      <td>3</td>\n",
       "      <td>M</td>\n",
       "      <td>25</td>\n",
       "      <td>15</td>\n",
       "      <td>55117</td>\n",
       "    </tr>\n",
       "    <tr>\n",
       "      <th>3</th>\n",
       "      <td>4</td>\n",
       "      <td>M</td>\n",
       "      <td>45</td>\n",
       "      <td>7</td>\n",
       "      <td>02460</td>\n",
       "    </tr>\n",
       "    <tr>\n",
       "      <th>4</th>\n",
       "      <td>5</td>\n",
       "      <td>M</td>\n",
       "      <td>25</td>\n",
       "      <td>20</td>\n",
       "      <td>55455</td>\n",
       "    </tr>\n",
       "  </tbody>\n",
       "</table>\n",
       "</div>"
      ],
      "text/plain": [
       "   user_id sex age_group occupation zip_code\n",
       "0        1   F         1         10    48067\n",
       "1        2   M        56         16    70072\n",
       "2        3   M        25         15    55117\n",
       "3        4   M        45          7    02460\n",
       "4        5   M        25         20    55455"
      ]
     },
     "execution_count": 4,
     "metadata": {},
     "output_type": "execute_result"
    }
   ],
   "source": [
    "users.head()"
   ]
  },
  {
   "cell_type": "code",
   "execution_count": 5,
   "id": "a5b111e7",
   "metadata": {},
   "outputs": [
    {
     "data": {
      "text/html": [
       "<div>\n",
       "<style scoped>\n",
       "    .dataframe tbody tr th:only-of-type {\n",
       "        vertical-align: middle;\n",
       "    }\n",
       "\n",
       "    .dataframe tbody tr th {\n",
       "        vertical-align: top;\n",
       "    }\n",
       "\n",
       "    .dataframe thead th {\n",
       "        text-align: right;\n",
       "    }\n",
       "</style>\n",
       "<table border=\"1\" class=\"dataframe\">\n",
       "  <thead>\n",
       "    <tr style=\"text-align: right;\">\n",
       "      <th></th>\n",
       "      <th>user_id</th>\n",
       "      <th>movie_id</th>\n",
       "      <th>rating</th>\n",
       "      <th>unix_timestamp</th>\n",
       "    </tr>\n",
       "  </thead>\n",
       "  <tbody>\n",
       "    <tr>\n",
       "      <th>0</th>\n",
       "      <td>1</td>\n",
       "      <td>1193</td>\n",
       "      <td>5</td>\n",
       "      <td>978300760</td>\n",
       "    </tr>\n",
       "    <tr>\n",
       "      <th>1</th>\n",
       "      <td>1</td>\n",
       "      <td>661</td>\n",
       "      <td>3</td>\n",
       "      <td>978302109</td>\n",
       "    </tr>\n",
       "    <tr>\n",
       "      <th>2</th>\n",
       "      <td>1</td>\n",
       "      <td>914</td>\n",
       "      <td>3</td>\n",
       "      <td>978301968</td>\n",
       "    </tr>\n",
       "    <tr>\n",
       "      <th>3</th>\n",
       "      <td>1</td>\n",
       "      <td>3408</td>\n",
       "      <td>4</td>\n",
       "      <td>978300275</td>\n",
       "    </tr>\n",
       "    <tr>\n",
       "      <th>4</th>\n",
       "      <td>1</td>\n",
       "      <td>2355</td>\n",
       "      <td>5</td>\n",
       "      <td>978824291</td>\n",
       "    </tr>\n",
       "  </tbody>\n",
       "</table>\n",
       "</div>"
      ],
      "text/plain": [
       "   user_id  movie_id  rating  unix_timestamp\n",
       "0        1      1193       5       978300760\n",
       "1        1       661       3       978302109\n",
       "2        1       914       3       978301968\n",
       "3        1      3408       4       978300275\n",
       "4        1      2355       5       978824291"
      ]
     },
     "execution_count": 5,
     "metadata": {},
     "output_type": "execute_result"
    }
   ],
   "source": [
    "ratings.head()"
   ]
  },
  {
   "cell_type": "code",
   "execution_count": 6,
   "id": "59ae5243-a309-4db8-895f-23e18a99d217",
   "metadata": {},
   "outputs": [
    {
     "data": {
      "text/html": [
       "<div>\n",
       "<style scoped>\n",
       "    .dataframe tbody tr th:only-of-type {\n",
       "        vertical-align: middle;\n",
       "    }\n",
       "\n",
       "    .dataframe tbody tr th {\n",
       "        vertical-align: top;\n",
       "    }\n",
       "\n",
       "    .dataframe thead th {\n",
       "        text-align: right;\n",
       "    }\n",
       "</style>\n",
       "<table border=\"1\" class=\"dataframe\">\n",
       "  <thead>\n",
       "    <tr style=\"text-align: right;\">\n",
       "      <th></th>\n",
       "      <th>movie_id</th>\n",
       "      <th>title</th>\n",
       "      <th>genres</th>\n",
       "    </tr>\n",
       "  </thead>\n",
       "  <tbody>\n",
       "    <tr>\n",
       "      <th>0</th>\n",
       "      <td>1</td>\n",
       "      <td>Toy Story (1995)</td>\n",
       "      <td>Animation|Children's|Comedy</td>\n",
       "    </tr>\n",
       "    <tr>\n",
       "      <th>1</th>\n",
       "      <td>2</td>\n",
       "      <td>Jumanji (1995)</td>\n",
       "      <td>Adventure|Children's|Fantasy</td>\n",
       "    </tr>\n",
       "    <tr>\n",
       "      <th>2</th>\n",
       "      <td>3</td>\n",
       "      <td>Grumpier Old Men (1995)</td>\n",
       "      <td>Comedy|Romance</td>\n",
       "    </tr>\n",
       "    <tr>\n",
       "      <th>3</th>\n",
       "      <td>4</td>\n",
       "      <td>Waiting to Exhale (1995)</td>\n",
       "      <td>Comedy|Drama</td>\n",
       "    </tr>\n",
       "    <tr>\n",
       "      <th>4</th>\n",
       "      <td>5</td>\n",
       "      <td>Father of the Bride Part II (1995)</td>\n",
       "      <td>Comedy</td>\n",
       "    </tr>\n",
       "  </tbody>\n",
       "</table>\n",
       "</div>"
      ],
      "text/plain": [
       "   movie_id                               title                        genres\n",
       "0         1                    Toy Story (1995)   Animation|Children's|Comedy\n",
       "1         2                      Jumanji (1995)  Adventure|Children's|Fantasy\n",
       "2         3             Grumpier Old Men (1995)                Comedy|Romance\n",
       "3         4            Waiting to Exhale (1995)                  Comedy|Drama\n",
       "4         5  Father of the Bride Part II (1995)                        Comedy"
      ]
     },
     "execution_count": 6,
     "metadata": {},
     "output_type": "execute_result"
    }
   ],
   "source": [
    "movies.head()"
   ]
  },
  {
   "cell_type": "markdown",
   "id": "6f45fabe",
   "metadata": {},
   "source": [
    "## Tokenization\n",
    "\n",
    "tokenize the user_ids and movie_ids such that both map on to 0:N space, where N is the number of unique entities."
   ]
  },
  {
   "cell_type": "code",
   "execution_count": 7,
   "id": "2048fbc0",
   "metadata": {},
   "outputs": [],
   "source": [
    "# user ids\n",
    "unique_user_ids = users[\"user_id\"].unique()\n",
    "unique_user_ids.sort()\n",
    "\n",
    "# movie ids\n",
    "unique_movie_ids = movies[\"movie_id\"].unique()\n",
    "unique_movie_ids.sort()\n",
    "\n",
    "# tokenization\n",
    "user_id_tokens = {user_id: i for i, user_id in enumerate(unique_user_ids)}\n",
    "movie_id_tokens = {movie_id: i for i, movie_id in enumerate(unique_movie_ids)}"
   ]
  },
  {
   "cell_type": "markdown",
   "id": "91b3d2a6",
   "metadata": {},
   "source": [
    "## Sequence Generation"
   ]
  },
  {
   "cell_type": "code",
   "execution_count": 8,
   "id": "966d87ee",
   "metadata": {},
   "outputs": [],
   "source": [
    "ratings[\"user_id_tokens\"] = ratings[\"user_id\"].map(user_id_tokens)\n",
    "ratings[\"movie_id_tokens\"] = ratings[\"movie_id\"].map(movie_id_tokens)"
   ]
  },
  {
   "cell_type": "code",
   "execution_count": 9,
   "id": "63777782",
   "metadata": {},
   "outputs": [],
   "source": [
    "ratings_ordered = (\n",
    "    ratings[[\"user_id_tokens\", \"movie_id_tokens\", \"unix_timestamp\", \"rating\"]]\n",
    "    .sort_values(by=\"unix_timestamp\")\n",
    "    .groupby(\"user_id_tokens\")\n",
    "    .agg(list)\n",
    "    .reset_index()\n",
    ")"
   ]
  },
  {
   "cell_type": "code",
   "execution_count": 10,
   "id": "8abac900",
   "metadata": {},
   "outputs": [
    {
     "data": {
      "text/html": [
       "<div>\n",
       "<style scoped>\n",
       "    .dataframe tbody tr th:only-of-type {\n",
       "        vertical-align: middle;\n",
       "    }\n",
       "\n",
       "    .dataframe tbody tr th {\n",
       "        vertical-align: top;\n",
       "    }\n",
       "\n",
       "    .dataframe thead th {\n",
       "        text-align: right;\n",
       "    }\n",
       "</style>\n",
       "<table border=\"1\" class=\"dataframe\">\n",
       "  <thead>\n",
       "    <tr style=\"text-align: right;\">\n",
       "      <th></th>\n",
       "      <th>user_id_tokens</th>\n",
       "      <th>movie_id_tokens</th>\n",
       "      <th>unix_timestamp</th>\n",
       "      <th>rating</th>\n",
       "    </tr>\n",
       "  </thead>\n",
       "  <tbody>\n",
       "    <tr>\n",
       "      <th>0</th>\n",
       "      <td>0</td>\n",
       "      <td>[3117, 1672, 1250, 1009, 2271, 1768, 3339, 118...</td>\n",
       "      <td>[978300019, 978300055, 978300055, 978300055, 9...</td>\n",
       "      <td>[4, 4, 5, 5, 3, 5, 4, 4, 5, 4, 3, 5, 4, 4, 4, ...</td>\n",
       "    </tr>\n",
       "    <tr>\n",
       "      <th>1</th>\n",
       "      <td>1</td>\n",
       "      <td>[1180, 1199, 1192, 2648, 1273, 2874, 1207, 117...</td>\n",
       "      <td>[978298124, 978298151, 978298151, 978298196, 9...</td>\n",
       "      <td>[4, 3, 4, 3, 5, 4, 5, 5, 5, 4, 4, 2, 5, 4, 4, ...</td>\n",
       "    </tr>\n",
       "  </tbody>\n",
       "</table>\n",
       "</div>"
      ],
      "text/plain": [
       "   user_id_tokens                                    movie_id_tokens  \\\n",
       "0               0  [3117, 1672, 1250, 1009, 2271, 1768, 3339, 118...   \n",
       "1               1  [1180, 1199, 1192, 2648, 1273, 2874, 1207, 117...   \n",
       "\n",
       "                                      unix_timestamp  \\\n",
       "0  [978300019, 978300055, 978300055, 978300055, 9...   \n",
       "1  [978298124, 978298151, 978298151, 978298196, 9...   \n",
       "\n",
       "                                              rating  \n",
       "0  [4, 4, 5, 5, 3, 5, 4, 4, 5, 4, 3, 5, 4, 4, 4, ...  \n",
       "1  [4, 3, 4, 3, 5, 4, 5, 5, 5, 4, 4, 2, 5, 4, 4, ...  "
      ]
     },
     "execution_count": 10,
     "metadata": {},
     "output_type": "execute_result"
    }
   ],
   "source": [
    "ratings_ordered.head(2)"
   ]
  },
  {
   "cell_type": "code",
   "execution_count": 11,
   "id": "f0d5611a",
   "metadata": {},
   "outputs": [],
   "source": [
    "sequence_length = 5\n",
    "min_sequence_length = 1\n",
    "window_size = 1"
   ]
  },
  {
   "cell_type": "markdown",
   "id": "4bdfffae",
   "metadata": {},
   "source": [
    "generate a sequence for one user_id and make sure we generate the correct sequences. Then we can expand that to all the data."
   ]
  },
  {
   "cell_type": "code",
   "execution_count": 12,
   "id": "e804773f",
   "metadata": {},
   "outputs": [],
   "source": [
    "sample_data = ratings_ordered.iloc[0]\n",
    "sample_movie_ids = torch.tensor(sample_data.movie_id_tokens, dtype=torch.int32)\n",
    "sample_ratings = torch.tensor(sample_data.rating, dtype=torch.int8)\n",
    "sample_movie_sequences = (\n",
    "    sample_movie_ids.ravel().unfold(0, sequence_length, 1).to(torch.int32)\n",
    ")\n",
    "sample_rating_sequences = (\n",
    "    sample_ratings.ravel().unfold(0, sequence_length, 1).to(torch.int8)\n",
    ")"
   ]
  },
  {
   "cell_type": "code",
   "execution_count": 13,
   "id": "5e28b200",
   "metadata": {},
   "outputs": [
    {
     "data": {
      "text/plain": [
       "tensor([[3117, 1672, 1250, 1009, 2271],\n",
       "        [1672, 1250, 1009, 2271, 1768],\n",
       "        [1250, 1009, 2271, 1768, 3339],\n",
       "        [1009, 2271, 1768, 3339, 1189],\n",
       "        [2271, 1768, 3339, 1189, 2735],\n",
       "        [1768, 3339, 1189, 2735,  257],\n",
       "        [3339, 1189, 2735,  257,  711],\n",
       "        [1189, 2735,  257,  711, 1176],\n",
       "        [2735,  257,  711, 1176,  907],\n",
       "        [ 257,  711, 1176,  907,  604],\n",
       "        [ 711, 1176,  907,  604, 2623],\n",
       "        [1176,  907,  604, 2623, 1892],\n",
       "        [ 907,  604, 2623, 1892, 1959],\n",
       "        [ 604, 2623, 1892, 1959, 3036],\n",
       "        [2623, 1892, 1959, 3036,  926],\n",
       "        [1892, 1959, 3036,  926, 1022],\n",
       "        [1959, 3036,  926, 1022, 1893],\n",
       "        [3036,  926, 1022, 1893, 1015],\n",
       "        [ 926, 1022, 1893, 1015, 1949],\n",
       "        [1022, 1893, 1015, 1949,  148],\n",
       "        [1893, 1015, 1949,  148, 1081],\n",
       "        [1015, 1949,  148, 1081,  902],\n",
       "        [1949,  148, 1081,  902, 1267],\n",
       "        [ 148, 1081,  902, 1267, 2728],\n",
       "        [1081,  902, 1267, 2728, 1226],\n",
       "        [ 902, 1267, 2728, 1226, 2693],\n",
       "        [1267, 2728, 1226, 2693,  655],\n",
       "        [2728, 1226, 2693,  655, 2849],\n",
       "        [1226, 2693,  655, 2849,  527],\n",
       "        [2693,  655, 2849,  527, 3045],\n",
       "        [ 655, 2849,  527, 3045, 2722],\n",
       "        [2849,  527, 3045, 2722, 1016],\n",
       "        [ 527, 3045, 2722, 1016, 2252],\n",
       "        [3045, 2722, 1016, 2252, 1179],\n",
       "        [2722, 1016, 2252, 1179,  590],\n",
       "        [1016, 2252, 1179,  590, 2329],\n",
       "        [2252, 1179,  590, 2329, 1506],\n",
       "        [1179,  590, 2329, 1506,  523],\n",
       "        [ 590, 2329, 1506,  523,  735],\n",
       "        [2329, 1506,  523,  735,  591],\n",
       "        [1506,  523,  735,  591,  584],\n",
       "        [ 523,  735,  591,  584,    0],\n",
       "        [ 735,  591,  584,    0, 2618],\n",
       "        [ 591,  584,    0, 2618,  773],\n",
       "        [ 584,    0, 2618,  773, 2225],\n",
       "        [   0, 2618,  773, 2225, 2286],\n",
       "        [2618,  773, 2225, 2286, 1838],\n",
       "        [ 773, 2225, 2286, 1838, 1526],\n",
       "        [2225, 2286, 1838, 1526,   47]], dtype=torch.int32)"
      ]
     },
     "execution_count": 13,
     "metadata": {},
     "output_type": "execute_result"
    }
   ],
   "source": [
    "sample_movie_sequences"
   ]
  },
  {
   "cell_type": "code",
   "execution_count": 14,
   "id": "0e9b4c80",
   "metadata": {},
   "outputs": [
    {
     "data": {
      "text/plain": [
       "tensor([[4, 4, 5, 5, 3],\n",
       "        [4, 5, 5, 3, 5],\n",
       "        [5, 5, 3, 5, 4],\n",
       "        [5, 3, 5, 4, 4],\n",
       "        [3, 5, 4, 4, 5],\n",
       "        [5, 4, 4, 5, 4],\n",
       "        [4, 4, 5, 4, 3],\n",
       "        [4, 5, 4, 3, 5],\n",
       "        [5, 4, 3, 5, 4],\n",
       "        [4, 3, 5, 4, 4],\n",
       "        [3, 5, 4, 4, 4],\n",
       "        [5, 4, 4, 4, 5],\n",
       "        [4, 4, 4, 5, 5],\n",
       "        [4, 4, 5, 5, 5],\n",
       "        [4, 5, 5, 5, 4],\n",
       "        [5, 5, 5, 4, 5],\n",
       "        [5, 5, 4, 5, 4],\n",
       "        [5, 4, 5, 4, 5],\n",
       "        [4, 5, 4, 5, 4],\n",
       "        [5, 4, 5, 4, 5],\n",
       "        [4, 5, 4, 5, 4],\n",
       "        [5, 4, 5, 4, 3],\n",
       "        [4, 5, 4, 3, 5],\n",
       "        [5, 4, 3, 5, 4],\n",
       "        [4, 3, 5, 4, 4],\n",
       "        [3, 5, 4, 4, 4],\n",
       "        [5, 4, 4, 4, 3],\n",
       "        [4, 4, 4, 3, 4],\n",
       "        [4, 4, 3, 4, 4],\n",
       "        [4, 3, 4, 4, 4],\n",
       "        [3, 4, 4, 4, 4],\n",
       "        [4, 4, 4, 4, 5],\n",
       "        [4, 4, 4, 5, 3],\n",
       "        [4, 4, 5, 3, 3],\n",
       "        [4, 5, 3, 3, 4],\n",
       "        [5, 3, 3, 4, 4],\n",
       "        [3, 3, 4, 4, 4],\n",
       "        [3, 4, 4, 4, 5],\n",
       "        [4, 4, 4, 5, 3],\n",
       "        [4, 4, 5, 3, 5],\n",
       "        [4, 5, 3, 5, 4],\n",
       "        [5, 3, 5, 4, 5],\n",
       "        [3, 5, 4, 5, 3],\n",
       "        [5, 4, 5, 3, 4],\n",
       "        [4, 5, 3, 4, 4],\n",
       "        [5, 3, 4, 4, 5],\n",
       "        [3, 4, 4, 5, 4],\n",
       "        [4, 4, 5, 4, 4],\n",
       "        [4, 5, 4, 4, 5]], dtype=torch.int8)"
      ]
     },
     "execution_count": 14,
     "metadata": {},
     "output_type": "execute_result"
    }
   ],
   "source": [
    "sample_rating_sequences"
   ]
  },
  {
   "cell_type": "code",
   "execution_count": 15,
   "id": "bf5155de",
   "metadata": {},
   "outputs": [],
   "source": [
    "def generate_sequences(row, sequence_length, window_size):\n",
    "    movie_ids = torch.tensor(row.movie_id_tokens, dtype=torch.int32)\n",
    "    ratings = torch.tensor(row.rating, dtype=torch.int8)\n",
    "    movie_sequences = (\n",
    "        movie_ids.ravel().unfold(0, sequence_length, window_size).to(torch.int32)\n",
    "    )\n",
    "    rating_sequences = (\n",
    "        ratings.ravel().unfold(0, sequence_length, window_size).to(torch.int8)\n",
    "    )\n",
    "    return (movie_sequences, rating_sequences)"
   ]
  },
  {
   "cell_type": "code",
   "execution_count": 16,
   "id": "8e9d8238",
   "metadata": {},
   "outputs": [
    {
     "name": "stdout",
     "output_type": "stream",
     "text": [
      "tensor([[3117, 1672, 1250, 1009, 2271],\n",
      "        [1672, 1250, 1009, 2271, 1768],\n",
      "        [1250, 1009, 2271, 1768, 3339],\n",
      "        [1009, 2271, 1768, 3339, 1189],\n",
      "        [2271, 1768, 3339, 1189, 2735],\n",
      "        [1768, 3339, 1189, 2735,  257],\n",
      "        [3339, 1189, 2735,  257,  711],\n",
      "        [1189, 2735,  257,  711, 1176],\n",
      "        [2735,  257,  711, 1176,  907],\n",
      "        [ 257,  711, 1176,  907,  604],\n",
      "        [ 711, 1176,  907,  604, 2623],\n",
      "        [1176,  907,  604, 2623, 1892],\n",
      "        [ 907,  604, 2623, 1892, 1959],\n",
      "        [ 604, 2623, 1892, 1959, 3036],\n",
      "        [2623, 1892, 1959, 3036,  926],\n",
      "        [1892, 1959, 3036,  926, 1022],\n",
      "        [1959, 3036,  926, 1022, 1893],\n",
      "        [3036,  926, 1022, 1893, 1015],\n",
      "        [ 926, 1022, 1893, 1015, 1949],\n",
      "        [1022, 1893, 1015, 1949,  148],\n",
      "        [1893, 1015, 1949,  148, 1081],\n",
      "        [1015, 1949,  148, 1081,  902],\n",
      "        [1949,  148, 1081,  902, 1267],\n",
      "        [ 148, 1081,  902, 1267, 2728],\n",
      "        [1081,  902, 1267, 2728, 1226],\n",
      "        [ 902, 1267, 2728, 1226, 2693],\n",
      "        [1267, 2728, 1226, 2693,  655],\n",
      "        [2728, 1226, 2693,  655, 2849],\n",
      "        [1226, 2693,  655, 2849,  527],\n",
      "        [2693,  655, 2849,  527, 3045],\n",
      "        [ 655, 2849,  527, 3045, 2722],\n",
      "        [2849,  527, 3045, 2722, 1016],\n",
      "        [ 527, 3045, 2722, 1016, 2252],\n",
      "        [3045, 2722, 1016, 2252, 1179],\n",
      "        [2722, 1016, 2252, 1179,  590],\n",
      "        [1016, 2252, 1179,  590, 2329],\n",
      "        [2252, 1179,  590, 2329, 1506],\n",
      "        [1179,  590, 2329, 1506,  523],\n",
      "        [ 590, 2329, 1506,  523,  735],\n",
      "        [2329, 1506,  523,  735,  591],\n",
      "        [1506,  523,  735,  591,  584],\n",
      "        [ 523,  735,  591,  584,    0],\n",
      "        [ 735,  591,  584,    0, 2618],\n",
      "        [ 591,  584,    0, 2618,  773],\n",
      "        [ 584,    0, 2618,  773, 2225],\n",
      "        [   0, 2618,  773, 2225, 2286],\n",
      "        [2618,  773, 2225, 2286, 1838],\n",
      "        [ 773, 2225, 2286, 1838, 1526],\n",
      "        [2225, 2286, 1838, 1526,   47]], dtype=torch.int32)\n",
      "tensor([[4, 4, 5, 5, 3],\n",
      "        [4, 5, 5, 3, 5],\n",
      "        [5, 5, 3, 5, 4],\n",
      "        [5, 3, 5, 4, 4],\n",
      "        [3, 5, 4, 4, 5],\n",
      "        [5, 4, 4, 5, 4],\n",
      "        [4, 4, 5, 4, 3],\n",
      "        [4, 5, 4, 3, 5],\n",
      "        [5, 4, 3, 5, 4],\n",
      "        [4, 3, 5, 4, 4],\n",
      "        [3, 5, 4, 4, 4],\n",
      "        [5, 4, 4, 4, 5],\n",
      "        [4, 4, 4, 5, 5],\n",
      "        [4, 4, 5, 5, 5],\n",
      "        [4, 5, 5, 5, 4],\n",
      "        [5, 5, 5, 4, 5],\n",
      "        [5, 5, 4, 5, 4],\n",
      "        [5, 4, 5, 4, 5],\n",
      "        [4, 5, 4, 5, 4],\n",
      "        [5, 4, 5, 4, 5],\n",
      "        [4, 5, 4, 5, 4],\n",
      "        [5, 4, 5, 4, 3],\n",
      "        [4, 5, 4, 3, 5],\n",
      "        [5, 4, 3, 5, 4],\n",
      "        [4, 3, 5, 4, 4],\n",
      "        [3, 5, 4, 4, 4],\n",
      "        [5, 4, 4, 4, 3],\n",
      "        [4, 4, 4, 3, 4],\n",
      "        [4, 4, 3, 4, 4],\n",
      "        [4, 3, 4, 4, 4],\n",
      "        [3, 4, 4, 4, 4],\n",
      "        [4, 4, 4, 4, 5],\n",
      "        [4, 4, 4, 5, 3],\n",
      "        [4, 4, 5, 3, 3],\n",
      "        [4, 5, 3, 3, 4],\n",
      "        [5, 3, 3, 4, 4],\n",
      "        [3, 3, 4, 4, 4],\n",
      "        [3, 4, 4, 4, 5],\n",
      "        [4, 4, 4, 5, 3],\n",
      "        [4, 4, 5, 3, 5],\n",
      "        [4, 5, 3, 5, 4],\n",
      "        [5, 3, 5, 4, 5],\n",
      "        [3, 5, 4, 5, 3],\n",
      "        [5, 4, 5, 3, 4],\n",
      "        [4, 5, 3, 4, 4],\n",
      "        [5, 3, 4, 4, 5],\n",
      "        [3, 4, 4, 5, 4],\n",
      "        [4, 4, 5, 4, 4],\n",
      "        [4, 5, 4, 4, 5]], dtype=torch.int8)\n"
     ]
    }
   ],
   "source": [
    "for i, row in ratings_ordered.iterrows():\n",
    "    movie_sequences, rating_sequences = generate_sequences(\n",
    "        row, sequence_length, window_size\n",
    "    )\n",
    "    print(movie_sequences)\n",
    "    print(rating_sequences)\n",
    "    break"
   ]
  },
  {
   "cell_type": "markdown",
   "id": "36c0bd1e",
   "metadata": {},
   "source": [
    "convert all the scrappy code into a proper `Dataset` class. We will call this `MovieLensSequenceDataset`."
   ]
  },
  {
   "cell_type": "code",
   "execution_count": 17,
   "id": "f5fca909",
   "metadata": {},
   "outputs": [
    {
     "name": "stderr",
     "output_type": "stream",
     "text": [
      "2025-07-10 12:54:14.331 | INFO     | data:__init__:89 - Creating MovieLensSequenceDataset with validation set: %s\n",
      "2025-07-10 12:54:14.332 | INFO     | data:read_movielens_data:12 - Reading data from files\n",
      "2025-07-10 12:54:16.532 | INFO     | data:_add_tokens:140 - Adding tokens to data\n",
      "2025-07-10 12:54:16.589 | INFO     | data:_generate_sequences:159 - Generating sequences\n",
      "2025-07-10 12:54:17.589 | INFO     | data:__init__:110 - Train data length: 883939\n",
      "2025-07-10 12:54:17.589 | INFO     | data:__init__:111 - Validation data length: 98150\n"
     ]
    },
    {
     "name": "stdout",
     "output_type": "stream",
     "text": [
      "tensor([[3883, 3117, 1672, 1250, 1009],\n",
      "        [3117, 1672, 1250, 1009, 2271],\n",
      "        [1672, 1250, 1009, 2271, 1768],\n",
      "        [1250, 1009, 2271, 1768, 3339]], dtype=torch.int32)\n",
      "torch.Size([4, 5])\n",
      "-----------------------------------\n",
      "tensor([[0, 4, 4, 5, 5],\n",
      "        [4, 4, 5, 5, 3],\n",
      "        [4, 5, 5, 3, 5],\n",
      "        [5, 5, 3, 5, 4]], dtype=torch.int8)\n",
      "torch.Size([4, 5])\n",
      "-----------------------------------\n",
      "tensor([0, 0, 0, 0], dtype=torch.int32)\n",
      "torch.Size([4])\n",
      "-----------------------------------\n",
      "tensor([2271, 1768, 3339, 1189], dtype=torch.int32)\n",
      "torch.Size([4])\n",
      "-----------------------------------\n",
      "tensor([3, 5, 4, 4], dtype=torch.int8)\n",
      "torch.Size([4])\n",
      "-----------------------------------\n"
     ]
    }
   ],
   "source": [
    "dataset = MovieLensSequenceDataset(\n",
    "    movies_file=\"./data/ml-1m/movies.dat\",\n",
    "    users_file=\"./data/ml-1m/users.dat\",\n",
    "    ratings_file=\"./data/ml-1m/ratings.dat\",\n",
    "    sequence_length=5,\n",
    "    window_size=1,\n",
    ")\n",
    "dataloader = DataLoader(dataset, batch_size=4, shuffle=False)\n",
    "batch = next(iter(dataloader))\n",
    "for t in batch:\n",
    "    print(t)\n",
    "    print(t.shape)\n",
    "    print(\"-----------------------------------\")"
   ]
  },
  {
   "cell_type": "markdown",
   "id": "da18ccbd",
   "metadata": {},
   "source": [
    "## Model Definition\n",
    "\n",
    " build the transformer based recommendation model \n",
    "\n",
    "```python\n",
    "class InteractionMLP(nn.Module):\n",
    "    def __init__(self, input_size: int, hidden_sizes: List[int], output_size: int):\n",
    "        super(InteractionMLP, self).__init__()\n",
    "        fc_layers = []\n",
    "        for i, hidden_size in enumerate(hidden_sizes):\n",
    "            if i == 0:\n",
    "                fc_layers.append(nn.Linear(input_size, hidden_size))\n",
    "            else:\n",
    "                fc_layers.append(nn.Linear(hidden_sizes[i - 1], hidden_size))\n",
    "            fc_layers.append(nn.ReLU())\n",
    "        fc_layers.append(\n",
    "            nn.Linear(\n",
    "                hidden_sizes[-1] if hidden_sizes else input_size,\n",
    "                output_size,\n",
    "                bias=False,\n",
    "            )\n",
    "        )\n",
    "        self.fc_layers = nn.Sequential(*fc_layers)\n",
    "\n",
    "    def forward(self, x: torch.Tensor):\n",
    "        return self.fc_layers(x)\n",
    "\n",
    "```\n",
    "\n",
    "### Final Movielens RecSys Model\n",
    "\n",
    "```python\n",
    "class MovieLensTransformer(nn.Module):\n",
    "    def __init__(self, config: MovieLensTransformerConfig):\n",
    "        super().__init__()\n",
    "        self.movie_transformer = Transformer(config.movie_transformer_config)\n",
    "        self.user_embedding = nn.Embedding(\n",
    "            config.num_users, config.user_embedding_dimension\n",
    "        )\n",
    "\n",
    "        self.output_layer = InteractionMLP(\n",
    "            config.movie_transformer_config.embedding_dimension\n",
    "            + config.user_embedding_dimension,\n",
    "            config.interaction_mlp_hidden_sizes,\n",
    "            config.movie_transformer_config.vocab_size,\n",
    "        )\n",
    "\n",
    "    def forward(self, movie_ids: torch.Tensor, user_ids: torch.Tensor):\n",
    "        movie_embeddings = self.movie_transformer(movie_ids)\n",
    "        user_embeddings = self.user_embedding(user_ids)\n",
    "        embeddings = torch.cat([movie_embeddings, user_embeddings], dim=-1)\n",
    "        return self.output_layer(embeddings)  # returns logits\n",
    "```\n"
   ]
  },
  {
   "cell_type": "markdown",
   "id": "b9a438f5",
   "metadata": {},
   "source": [
    "## Testing\n",
    "\n",
    "test the model that we defined to see if we can run a sample batch through it."
   ]
  },
  {
   "cell_type": "code",
   "execution_count": 18,
   "id": "4c2c2908",
   "metadata": {},
   "outputs": [],
   "source": [
    "movie_ids, ratings, user_ids, output_movie_ids, output_ratings = batch"
   ]
  },
  {
   "cell_type": "code",
   "execution_count": 19,
   "id": "d1d5c12e",
   "metadata": {},
   "outputs": [
    {
     "data": {
      "text/plain": [
       "tensor([[3883, 3117, 1672, 1250, 1009],\n",
       "        [3117, 1672, 1250, 1009, 2271],\n",
       "        [1672, 1250, 1009, 2271, 1768],\n",
       "        [1250, 1009, 2271, 1768, 3339]], dtype=torch.int32)"
      ]
     },
     "execution_count": 19,
     "metadata": {},
     "output_type": "execute_result"
    }
   ],
   "source": [
    "movie_ids"
   ]
  },
  {
   "cell_type": "code",
   "execution_count": 20,
   "id": "f98bd67a",
   "metadata": {},
   "outputs": [
    {
     "data": {
      "text/plain": [
       "tensor([0, 0, 0, 0], dtype=torch.int32)"
      ]
     },
     "execution_count": 20,
     "metadata": {},
     "output_type": "execute_result"
    }
   ],
   "source": [
    "user_ids"
   ]
  },
  {
   "cell_type": "code",
   "execution_count": 21,
   "id": "1fbd5aa8",
   "metadata": {},
   "outputs": [
    {
     "data": {
      "text/plain": [
       "3885"
      ]
     },
     "execution_count": 21,
     "metadata": {},
     "output_type": "execute_result"
    }
   ],
   "source": [
    "len(dataset.metadata.movie_id_tokens)"
   ]
  },
  {
   "cell_type": "code",
   "execution_count": 22,
   "id": "51d54e64",
   "metadata": {},
   "outputs": [
    {
     "name": "stdout",
     "output_type": "stream",
     "text": [
      "MovieLensTransformerConfig(movie_transformer_config=TransformerConfig(vocab_size=3885,\n",
      "                                                                      context_window_size=5,\n",
      "                                                                      embedding_dimension=32,\n",
      "                                                                      num_layers=2,\n",
      "                                                                      num_heads=2,\n",
      "                                                                      dropout_embeddings=0.1,\n",
      "                                                                      dropout_attention=0.1,\n",
      "                                                                      dropout_residual=0.1,\n",
      "                                                                      layer_norm_epsilon=1e-05),\n",
      "                           user_embedding_dimension=32,\n",
      "                           num_users=6040,\n",
      "                           interaction_mlp_hidden_sizes=[16])\n"
     ]
    }
   ],
   "source": [
    "config_json = {\n",
    "    \"movie_transformer_config\": {\n",
    "        \"vocab_size\": len(dataset.metadata.movie_id_tokens),\n",
    "        \"context_window_size\": 5,\n",
    "        \"embedding_dimension\": 32,\n",
    "        \"num_layers\": 2,\n",
    "        \"num_heads\": 2,\n",
    "        \"dropout_embeddings\": 0.1,\n",
    "        \"dropout_attention\": 0.1,\n",
    "        \"dropout_residual\": 0.1,\n",
    "        \"layer_norm_epsilon\": 1e-5,\n",
    "    },\n",
    "    \"user_embedding_dimension\": 32,\n",
    "    \"num_users\": len(dataset.metadata.user_id_tokens),\n",
    "    \"interaction_mlp_hidden_sizes\": [16],\n",
    "}\n",
    "\n",
    "config = from_dict(data_class=MovieLensTransformerConfig, data=config_json)\n",
    "pprint.pprint(config)"
   ]
  },
  {
   "cell_type": "code",
   "execution_count": 23,
   "id": "53f0f2cf",
   "metadata": {},
   "outputs": [
    {
     "data": {
      "text/plain": [
       "MovieLensTransformer(\n",
       "  (movie_transformer): Transformer(\n",
       "    (token_embedding): Embedding(3885, 32)\n",
       "    (positional_embedding): Embedding(5, 32)\n",
       "    (embedding_dropout): Dropout(p=0.1, inplace=False)\n",
       "    (layers): ModuleList(\n",
       "      (0-1): 2 x TransformerEncoderLayer(\n",
       "        (layer_norm1): LayerNorm((32,), eps=1e-05, elementwise_affine=True)\n",
       "        (attention): CausalMultiHeadAttention(\n",
       "          (qkv): Linear(in_features=32, out_features=96, bias=True)\n",
       "          (out): Linear(in_features=32, out_features=32, bias=True)\n",
       "          (residual_dropout): Dropout(p=0.1, inplace=False)\n",
       "        )\n",
       "        (layer_norm2): LayerNorm((32,), eps=1e-05, elementwise_affine=True)\n",
       "        (mlp): MLP(\n",
       "          (fc1): Linear(in_features=32, out_features=128, bias=True)\n",
       "          (activation): GELU(approximate='tanh')\n",
       "          (fc2): Linear(in_features=128, out_features=32, bias=True)\n",
       "          (dropout): Dropout(p=0.1, inplace=False)\n",
       "        )\n",
       "      )\n",
       "    )\n",
       "    (layer_norm): LayerNorm((32,), eps=1e-05, elementwise_affine=True)\n",
       "  )\n",
       "  (user_embedding): Embedding(6040, 32)\n",
       "  (output_layer): InteractionMLP(\n",
       "    (fc_layers): Sequential(\n",
       "      (0): Linear(in_features=320, out_features=16, bias=True)\n",
       "      (1): ReLU()\n",
       "      (2): Linear(in_features=16, out_features=3885, bias=False)\n",
       "    )\n",
       "  )\n",
       ")"
      ]
     },
     "execution_count": 23,
     "metadata": {},
     "output_type": "execute_result"
    }
   ],
   "source": [
    "model = MovieLensTransformer(config)\n",
    "model"
   ]
  },
  {
   "cell_type": "code",
   "execution_count": 24,
   "id": "e96d7bdb",
   "metadata": {},
   "outputs": [
    {
     "data": {
      "text/plain": [
       "torch.Size([4, 3885])"
      ]
     },
     "execution_count": 24,
     "metadata": {},
     "output_type": "execute_result"
    }
   ],
   "source": [
    "logits = model(movie_ids=movie_ids, user_ids=user_ids)\n",
    "logits.shape"
   ]
  },
  {
   "cell_type": "markdown",
   "id": "05f8578a",
   "metadata": {},
   "source": [
    "### Overfit one batch"
   ]
  },
  {
   "cell_type": "code",
   "execution_count": 25,
   "id": "c0bee1ff",
   "metadata": {},
   "outputs": [
    {
     "data": {
      "text/plain": [
       "[tensor([[3883, 3117, 1672, 1250, 1009],\n",
       "         [3117, 1672, 1250, 1009, 2271],\n",
       "         [1672, 1250, 1009, 2271, 1768],\n",
       "         [1250, 1009, 2271, 1768, 3339]], dtype=torch.int32),\n",
       " tensor([[0, 4, 4, 5, 5],\n",
       "         [4, 4, 5, 5, 3],\n",
       "         [4, 5, 5, 3, 5],\n",
       "         [5, 5, 3, 5, 4]], dtype=torch.int8),\n",
       " tensor([0, 0, 0, 0], dtype=torch.int32),\n",
       " tensor([2271, 1768, 3339, 1189], dtype=torch.int32),\n",
       " tensor([3, 5, 4, 4], dtype=torch.int8)]"
      ]
     },
     "execution_count": 25,
     "metadata": {},
     "output_type": "execute_result"
    }
   ],
   "source": [
    "batch"
   ]
  },
  {
   "cell_type": "markdown",
   "id": "862a9ab7",
   "metadata": {},
   "source": []
  },
  {
   "cell_type": "code",
   "execution_count": 26,
   "id": "b0e63387",
   "metadata": {},
   "outputs": [],
   "source": [
    "device = torch.device(\"cuda\" if torch.cuda.is_available() else \"cpu\")\n",
    "model = model.to(device)\n",
    "criterion = nn.CrossEntropyLoss()\n",
    "optimizer = torch.optim.Adam(model.parameters(), lr=0.001)"
   ]
  },
  {
   "cell_type": "code",
   "execution_count": 27,
   "id": "a409ded4",
   "metadata": {},
   "outputs": [],
   "source": [
    "movie_ids, user_ids, output_movie_ids = (\n",
    "    movie_ids.to(device),\n",
    "    user_ids.to(device),\n",
    "    output_movie_ids.to(device),\n",
    ")"
   ]
  },
  {
   "cell_type": "code",
   "execution_count": 28,
   "id": "73a4a8b5",
   "metadata": {},
   "outputs": [
    {
     "name": "stdout",
     "output_type": "stream",
     "text": [
      "Epoch 0, Loss: 8.432562828063965\n",
      "Epoch 1000, Loss: 0.0003655957116279751\n",
      "Epoch 2000, Loss: 9.696824417915195e-05\n",
      "Epoch 3000, Loss: 4.076806362718344e-05\n",
      "Epoch 4000, Loss: 1.7255257262149826e-05\n",
      "Epoch 5000, Loss: 6.943897460587323e-06\n",
      "Epoch 6000, Loss: 4.26171163780964e-06\n",
      "Epoch 7000, Loss: 1.4603115232603159e-06\n",
      "Epoch 8000, Loss: 7.748596999590518e-07\n",
      "Epoch 9000, Loss: 5.662436137754412e-07\n"
     ]
    }
   ],
   "source": [
    "epochs = 10000\n",
    "\n",
    "for epoch in range(epochs):\n",
    "    optimizer.zero_grad()\n",
    "    logits = model(movie_ids=movie_ids, user_ids=user_ids)\n",
    "    loss = criterion(\n",
    "        logits.view(-1, logits.shape[-1]), output_movie_ids.view(-1).long()\n",
    "    )\n",
    "    loss.backward()\n",
    "    optimizer.step()\n",
    "    if epoch % 1000 == 0:\n",
    "        print(f\"Epoch {epoch}, Loss: {loss.item()}\")"
   ]
  },
  {
   "cell_type": "code",
   "execution_count": 29,
   "id": "24972cd9",
   "metadata": {},
   "outputs": [
    {
     "data": {
      "text/plain": [
       "tensor([[3883, 3117, 1672, 1250, 1009],\n",
       "        [3117, 1672, 1250, 1009, 2271],\n",
       "        [1672, 1250, 1009, 2271, 1768],\n",
       "        [1250, 1009, 2271, 1768, 3339]], device='cuda:0', dtype=torch.int32)"
      ]
     },
     "execution_count": 29,
     "metadata": {},
     "output_type": "execute_result"
    }
   ],
   "source": [
    "movie_ids"
   ]
  },
  {
   "cell_type": "code",
   "execution_count": 30,
   "id": "ecd720c6",
   "metadata": {},
   "outputs": [
    {
     "data": {
      "text/plain": [
       "tensor([2271, 1768, 3339, 1189], device='cuda:0', dtype=torch.int32)"
      ]
     },
     "execution_count": 30,
     "metadata": {},
     "output_type": "execute_result"
    }
   ],
   "source": [
    "output_movie_ids"
   ]
  },
  {
   "cell_type": "code",
   "execution_count": 31,
   "id": "8f1ebce7",
   "metadata": {},
   "outputs": [
    {
     "name": "stdout",
     "output_type": "stream",
     "text": [
      "tensor([[ -3.1492,  -3.6396,  -6.9141,  ...,  -5.4651,  -5.6196, -16.4910],\n",
      "        [ -1.9274, -10.9851, -13.5066,  ...,  -1.6212, -11.6640, -15.5053],\n",
      "        [ -1.8384,  -6.1182, -18.2976,  ...,  -1.1428,  -6.5696, -15.1540],\n",
      "        [ -3.3904,  -3.9717,  -6.4100,  ...,  -2.7143,  -6.7109,  -7.9646]],\n",
      "       device='cuda:0', grad_fn=<MmBackward0>)\n"
     ]
    }
   ],
   "source": [
    "model.eval()\n",
    "logits = model(movie_ids=movie_ids, user_ids=user_ids)\n",
    "print(logits)"
   ]
  },
  {
   "cell_type": "code",
   "execution_count": 32,
   "id": "0b92134e",
   "metadata": {},
   "outputs": [
    {
     "name": "stdout",
     "output_type": "stream",
     "text": [
      "tensor([2271, 1768, 3339, 1189], device='cuda:0')\n",
      "tensor([2271, 1768, 3339, 1189], device='cuda:0', dtype=torch.int32)\n"
     ]
    }
   ],
   "source": [
    "# model output\n",
    "\n",
    "probabilities = F.softmax(logits, dim=-1)\n",
    "print(torch.argmax(probabilities, dim=-1))\n",
    "print(output_movie_ids)"
   ]
  },
  {
   "cell_type": "markdown",
   "id": "3d91e93a",
   "metadata": {},
   "source": [
    "\n",
    "\n",
    "### Train Step\n",
    "\n",
    "```python\n",
    "def train_step(\n",
    "    movie_ids: torch.Tensor,\n",
    "    user_ids: torch.Tensor,\n",
    "    movie_targets: torch.Tensor,\n",
    "    model: nn.Module,\n",
    "    optimizer: torch.optim.Optimizer,\n",
    "    criterion: torch.nn.Module,\n",
    "    device: torch.device,\n",
    "):\n",
    "    movie_ids, user_ids, movie_targets = (\n",
    "        movie_ids.to(device),\n",
    "        user_ids.to(device),\n",
    "        movie_targets.to(device),\n",
    "    )\n",
    "    optimizer.zero_grad()\n",
    "    output = model(movie_ids, user_ids)\n",
    "    loss = criterion(output.view(-1, output.size(-1)), movie_targets.view(-1).long())\n",
    "    loss.backward()\n",
    "    optimizer.step()\n",
    "    return loss.item()\n",
    "\n",
    "```\n",
    "\n",
    "\n",
    "### Validation step\n",
    "\n",
    "```python\n",
    "def validation_step(\n",
    "    movie_ids: torch.Tensor,\n",
    "    user_ids: torch.Tensor,\n",
    "    movie_targets: torch.Tensor,\n",
    "    model: nn.Module,\n",
    "    criterion: torch.nn.Module,\n",
    "    device: torch.device,\n",
    "):\n",
    "    movie_ids, user_ids, movie_targets = (\n",
    "        movie_ids.to(device),\n",
    "        user_ids.to(device),\n",
    "        movie_targets.to(device),\n",
    "    )\n",
    "    with torch.no_grad():\n",
    "        output = model(movie_ids, user_ids)\n",
    "        loss = criterion(\n",
    "            output.view(-1, output.size(-1)), movie_targets.view(-1).long()\n",
    "        )\n",
    "    return loss.item()\n",
    "```\n",
    "\n",
    "Based on the full training loop, has been defined in `model_train.py`.\n",
    "\n",
    "### Dataset\n",
    "\n",
    "```python\n",
    "def get_dataset(config) -> Dataset:\n",
    "    movies_file = os.path.join(config[\"trainer_config\"][\"data_dir\"], \"movies.dat\")\n",
    "    users_file = os.path.join(config[\"trainer_config\"][\"data_dir\"], \"users.dat\")\n",
    "    ratings_file = os.path.join(config[\"trainer_config\"][\"data_dir\"], \"ratings.dat\")\n",
    "\n",
    "    dataset = MovieLensSequenceDataset(\n",
    "        movies_file=movies_file,\n",
    "        users_file=users_file,\n",
    "        ratings_file=ratings_file,\n",
    "        sequence_length=config[\"movie_transformer_config\"][\"context_window_size\"],\n",
    "        window_size=1,  # next token prediction with sliding window of 1\n",
    "    )\n",
    "    return dataset\n",
    "```\n",
    "\n",
    "\n",
    "```python\n",
    "\n",
    "def run_model_training(config: dict):\n",
    "    device = config[\"trainer_config\"][\"device\"]\n",
    "    if device == \"cuda\" and not torch.cuda.is_available():\n",
    "        raise ValueError(\"CUDA is not available\")\n",
    "\n",
    "    dataset = get_dataset(config)\n",
    "    train_dataloader = DataLoader(\n",
    "        dataset, batch_size=config[\"trainer_config\"][\"batch_size\"], shuffle=True\n",
    "    )\n",
    "    validation_dataloader = DataLoader(\n",
    "        dataset, batch_size=config[\"trainer_config\"][\"batch_size\"], shuffle=False\n",
    "    )\n",
    "\n",
    "    model_config = get_model_config(config, dataset)\n",
    "\n",
    "    model = MovieLensTransformer(config=model_config)\n",
    "\n",
    "    init_weights(model)\n",
    "    model.to(device)\n",
    "\n",
    "    criterion = nn.CrossEntropyLoss()\n",
    "    optimizer = torch.optim.Adam(\n",
    "        model.parameters(), lr=config[\"trainer_config\"][\"starting_learning_rate\"]\n",
    "    )\n",
    "\n",
    "    best_validation_loss = np.inf\n",
    "\n",
    "    writer = SummaryWriter(\n",
    "        log_dir=config[\"trainer_config\"][\"tensorboard_dir\"], flush_secs=30\n",
    "    )\n",
    "\n",
    "    for epoch in range(config[\"trainer_config\"][\"num_epochs\"]):\n",
    "        model.train()\n",
    "        total_loss = 0.0\n",
    "\n",
    "        pbar = trange(len(train_dataloader))\n",
    "        pbar.ncols = 150\n",
    "        for i, (\n",
    "            movie_ids,\n",
    "            rating_ids,\n",
    "            user_ids,\n",
    "            movie_targets,\n",
    "            rating_targets,\n",
    "        ) in enumerate(train_dataloader):\n",
    "            loss = train_step(\n",
    "                movie_ids,\n",
    "                user_ids,\n",
    "                movie_targets,\n",
    "                model,\n",
    "                optimizer,\n",
    "                criterion,\n",
    "                device,\n",
    "            )\n",
    "            total_loss += loss\n",
    "            pbar.update(1)\n",
    "            pbar.set_description(\n",
    "                f\"[Epoch = {epoch}] Current training loss (loss = {np.round(loss, 4)})\"\n",
    "            )\n",
    "            pbar.refresh()\n",
    "\n",
    "        pbar.close()\n",
    "        train_loss = total_loss / len(train_dataloader)\n",
    "        logger.info(f\"Epoch {epoch}, Loss: {np.round(train_loss, 4)}\")\n",
    "        writer.add_scalar(\"loss/train\", train_loss, epoch)\n",
    "\n",
    "        model.eval()\n",
    "        total_loss = 0.0\n",
    "\n",
    "        pbar = trange(len(validation_dataloader))\n",
    "        pbar.ncols = 150\n",
    "        for i, (\n",
    "            movie_ids,\n",
    "            rating_ids,\n",
    "            user_ids,\n",
    "            movie_targets,\n",
    "            rating_targets,\n",
    "        ) in enumerate(validation_dataloader):\n",
    "            loss = validation_step(\n",
    "                movie_ids,\n",
    "                user_ids,\n",
    "                movie_targets,\n",
    "                model,\n",
    "                criterion,\n",
    "                device,\n",
    "            )\n",
    "            total_loss += loss\n",
    "            pbar.update(1)\n",
    "            pbar.set_description(\n",
    "                f\"[Epoch = {epoch}] Current validation loss (loss = {np.round(loss, 4)})\"\n",
    "            )\n",
    "            pbar.refresh()\n",
    "\n",
    "        pbar.close()\n",
    "\n",
    "        validation_loss = total_loss / len(validation_dataloader)\n",
    "        logger.info(f\"Validation Loss: {np.round(validation_loss, 4)}\")\n",
    "        writer.add_scalar(\"loss/validation\", validation_loss, epoch)\n",
    "\n",
    "        if validation_loss < best_validation_loss:\n",
    "            best_validation_loss = validation_loss\n",
    "            if not os.path.exists(config[\"trainer_config\"][\"model_dir\"]):\n",
    "                os.makedirs(config[\"trainer_config\"][\"model_dir\"])\n",
    "            torch.save(\n",
    "                model.state_dict(),\n",
    "                os.path.join(config[\"trainer_config\"][\"model_dir\"], \"model.pth\"),\n",
    "            )\n",
    "```\n",
    "\n",
    "test this with a single epoch run!"
   ]
  },
  {
   "cell_type": "code",
   "execution_count": 33,
   "id": "3fd40ed4",
   "metadata": {},
   "outputs": [
    {
     "name": "stdout",
     "output_type": "stream",
     "text": [
      "{'interaction_mlp_hidden_sizes': [16],\n",
      " 'movie_transformer_config': {'context_window_size': 5,\n",
      "                              'dropout_attention': 0.1,\n",
      "                              'dropout_embeddings': 0.1,\n",
      "                              'dropout_residual': 0.1,\n",
      "                              'embedding_dimension': 32,\n",
      "                              'layer_norm_epsilon': 1e-05,\n",
      "                              'num_heads': 4,\n",
      "                              'num_layers': 4},\n",
      " 'trainer_config': {'batch_size': 4096,\n",
      "                    'data_dir': './data/ml-1m',\n",
      "                    'device': 'cuda',\n",
      "                    'learning_rate_decay': 0.99,\n",
      "                    'model_dir': './models',\n",
      "                    'num_epochs': 1,\n",
      "                    'penalize_duplicates_factor': 0.1,\n",
      "                    'starting_learning_rate': 0.0005,\n",
      "                    'tensorboard_dir': './runs',\n",
      "                    'validation_fraction': 0.15},\n",
      " 'user_embedding_dimension': 32}\n"
     ]
    }
   ],
   "source": [
    "config_file = \"./training_config.yaml\"\n",
    "config = load_config(config_file)\n",
    "config[\"trainer_config\"][\"num_epochs\"] = 1\n",
    "pprint.pprint(config)"
   ]
  },
  {
   "cell_type": "code",
   "execution_count": 34,
   "id": "e7a3c8af",
   "metadata": {},
   "outputs": [
    {
     "name": "stderr",
     "output_type": "stream",
     "text": [
      "2025-07-10 12:54:37.704 | INFO     | data:__init__:89 - Creating MovieLensSequenceDataset with validation set: %s\n",
      "2025-07-10 12:54:37.705 | INFO     | data:read_movielens_data:12 - Reading data from files\n",
      "2025-07-10 12:54:40.008 | INFO     | data:_add_tokens:140 - Adding tokens to data\n",
      "2025-07-10 12:54:40.062 | INFO     | data:_generate_sequences:159 - Generating sequences\n",
      "2025-07-10 12:54:41.181 | INFO     | data:__init__:110 - Train data length: 883592\n",
      "2025-07-10 12:54:41.182 | INFO     | data:__init__:111 - Validation data length: 98497\n",
      "2025-07-10 12:54:41.183 | INFO     | model_train:get_model_config:103 - Model config:\n",
      " ========== \n",
      "MovieLensTransformerConfig(movie_transformer_config=TransformerConfig(vocab_size=3885, context_window_size=5, embedding_dimension=32, num_layers=4, num_heads=4, dropout_embeddings=0.1, dropout_attention=0.1, dropout_residual=0.1, layer_norm_epsilon=1e-05), user_embedding_dimension=32, num_users=6040, interaction_mlp_hidden_sizes=[16]) \n",
      " ==========\n",
      "2025-07-10 12:54:41.194 | INFO     | loss:__init__:17 - Penalty weight: 0\n",
      "  0%|          | 0/216 [00:00<?, ?it/s]W0710 12:54:45.256000 130761837076480 torch/_inductor/utils.py:977] [0/0] Not enough SMs to use max_autotune_gemm mode\n",
      "AUTOTUNE addmm(20480x128, 20480x32, 32x128)\n",
      "  bias_addmm 0.0850 ms 100.0%\n",
      "  addmm 0.2093 ms 40.6%\n",
      "SingleProcess AUTOTUNE benchmarking takes 0.2049 seconds and 0.0000 seconds precompiling\n",
      "AUTOTUNE addmm(20480x96, 20480x32, 32x96)\n",
      "  bias_addmm 0.1044 ms 100.0%\n",
      "  addmm 0.1638 ms 63.8%\n",
      "SingleProcess AUTOTUNE benchmarking takes 0.2289 seconds and 0.0000 seconds precompiling\n",
      "[Epoch = 0] Current training loss (loss = 7.5035): 100%|███████████████████████████████████████████████████████████▋| 215/216 [00:50<00:00,  5.47it/s]AUTOTUNE addmm(14760x128, 14760x32, 32x128)\n",
      "  bias_addmm 0.0632 ms 100.0%\n",
      "  addmm 0.1546 ms 40.9%\n",
      "SingleProcess AUTOTUNE benchmarking takes 0.2308 seconds and 0.0000 seconds precompiling\n",
      "AUTOTUNE addmm(14760x96, 14760x32, 32x96)\n",
      "  bias_addmm 0.0799 ms 100.0%\n",
      "  addmm 0.1208 ms 66.1%\n",
      "SingleProcess AUTOTUNE benchmarking takes 0.2277 seconds and 0.0000 seconds precompiling\n",
      "[Epoch = 0] Current training loss (loss = 7.5231): 100%|████████████████████████████████████████████████████████████| 216/216 [01:08<00:00,  3.13it/s]\n",
      "2025-07-10 12:55:50.899 | INFO     | model_train:run_model_training:189 - Epoch 0, Loss: 7.6848\n",
      "[Epoch = 0] Current validation loss (loss = 7.4922): 100%|██████████████████████████████████████████████████████████| 216/216 [00:22<00:00,  9.55it/s]\n",
      "2025-07-10 12:56:13.515 | INFO     | model_train:run_model_training:222 - Validation Loss: 7.4897\n",
      "2025-07-10 12:56:13.529 | INFO     | model_train:run_model_training:236 - Learning rate: 0.0004998768868112501\n"
     ]
    }
   ],
   "source": [
    "run_model_training(config)"
   ]
  },
  {
   "cell_type": "code",
   "execution_count": null,
   "id": "29872c6e",
   "metadata": {},
   "outputs": [],
   "source": []
  },
  {
   "cell_type": "code",
   "execution_count": null,
   "id": "ac75bdb4",
   "metadata": {},
   "outputs": [],
   "source": []
  },
  {
   "cell_type": "markdown",
   "id": "8d2baca3",
   "metadata": {},
   "source": [
    "run a full training run for 1000 epochs. we ran the full training run and collected the loss values for training and validation using tensorboard.  loss values:"
   ]
  },
  {
   "cell_type": "code",
   "execution_count": 35,
   "id": "cf21bba4",
   "metadata": {},
   "outputs": [
    {
     "name": "stdout",
     "output_type": "stream",
     "text": [
      "|    |   step | tag        |   value |\n",
      "|---:|-------:|:-----------|--------:|\n",
      "|  0 |      0 | loss/train | 7.41048 |\n",
      "|  1 |      1 | loss/train | 6.96151 |\n",
      "|  2 |      2 | loss/train | 6.71398 |\n",
      "|  3 |      3 | loss/train | 6.57032 |\n",
      "|  4 |      4 | loss/train | 6.41832 |\n"
     ]
    }
   ],
   "source": [
    "from tbparse import SummaryReader\n",
    "\n",
    "log_file = \"./models/events.out.tfevents.1724703053.big.514232.0\"\n",
    "reader = SummaryReader(log_file)\n",
    "metrics = reader.scalars\n",
    "print(metrics.head().to_markdown())"
   ]
  },
  {
   "cell_type": "code",
   "execution_count": 36,
   "id": "23bea7be",
   "metadata": {},
   "outputs": [
    {
     "data": {
      "text/plain": [
       "<Axes: xlabel='step'>"
      ]
     },
     "execution_count": 36,
     "metadata": {},
     "output_type": "execute_result"
    },
    {
     "data": {
      "image/png": "[encoded data removed]",
      "text/plain": [
       "<Figure size 640x480 with 1 Axes>"
      ]
     },
     "metadata": {},
     "output_type": "display_data"
    }
   ],
   "source": [
    "metrics.groupby([\"step\", \"tag\"]).mean().unstack()[\"value\"].plot()"
   ]
  },
  {
   "cell_type": "markdown",
   "id": "dae1aaee",
   "metadata": {},
   "source": [
    "We can see that the model has learnt a lot already. Looking at the last few loss values, it seems that the model is still learning but it is good enough for now for our next steps."
   ]
  },
  {
   "cell_type": "markdown",
   "id": "70f00bf9",
   "metadata": {},
   "source": [
    "## Model Predictions\n",
    "\n",
    "Now we can use the trained model to do some predictions. "
   ]
  },
  {
   "cell_type": "code",
   "execution_count": 37,
   "id": "7f59dfea",
   "metadata": {},
   "outputs": [
    {
     "name": "stderr",
     "output_type": "stream",
     "text": [
      "2025-07-10 12:56:13.754 | INFO     | data:__init__:89 - Creating MovieLensSequenceDataset with validation set: %s\n",
      "2025-07-10 12:56:13.754 | INFO     | data:read_movielens_data:12 - Reading data from files\n",
      "2025-07-10 12:56:16.257 | INFO     | data:_add_tokens:140 - Adding tokens to data\n",
      "2025-07-10 12:56:16.304 | INFO     | data:_generate_sequences:159 - Generating sequences\n",
      "2025-07-10 12:56:17.350 | INFO     | data:__init__:110 - Train data length: 883866\n",
      "2025-07-10 12:56:17.351 | INFO     | data:__init__:111 - Validation data length: 98223\n"
     ]
    }
   ],
   "source": [
    "torch.random.manual_seed(0)\n",
    "test_dataset = MovieLensSequenceDataset(\n",
    "    movies_file=\"./data/ml-1m/movies.dat\",\n",
    "    users_file=\"./data/ml-1m/users.dat\",\n",
    "    ratings_file=\"./data/ml-1m/ratings.dat\",\n",
    "    sequence_length=5,\n",
    "    window_size=1,\n",
    ")\n",
    "test_dataloader = DataLoader(test_dataset, batch_size=16, shuffle=True)\n",
    "test_batch = next(iter(test_dataloader))"
   ]
  },
  {
   "cell_type": "code",
   "execution_count": 38,
   "id": "66d0ae7b",
   "metadata": {},
   "outputs": [],
   "source": [
    "movie_ids, rating_ids, user_ids, movie_targets, rating_targets = test_batch"
   ]
  },
  {
   "cell_type": "code",
   "execution_count": 39,
   "id": "e92169ff",
   "metadata": {},
   "outputs": [
    {
     "data": {
      "text/html": [
       "<div>\n",
       "<style scoped>\n",
       "    .dataframe tbody tr th:only-of-type {\n",
       "        vertical-align: middle;\n",
       "    }\n",
       "\n",
       "    .dataframe tbody tr th {\n",
       "        vertical-align: top;\n",
       "    }\n",
       "\n",
       "    .dataframe thead th {\n",
       "        text-align: right;\n",
       "    }\n",
       "</style>\n",
       "<table border=\"1\" class=\"dataframe\">\n",
       "  <thead>\n",
       "    <tr style=\"text-align: right;\">\n",
       "      <th></th>\n",
       "      <th>movie_id</th>\n",
       "      <th>title</th>\n",
       "      <th>genres</th>\n",
       "    </tr>\n",
       "  </thead>\n",
       "  <tbody>\n",
       "    <tr>\n",
       "      <th>30</th>\n",
       "      <td>31</td>\n",
       "      <td>Dangerous Minds (1995)</td>\n",
       "      <td>Drama</td>\n",
       "    </tr>\n",
       "    <tr>\n",
       "      <th>156</th>\n",
       "      <td>158</td>\n",
       "      <td>Casper (1995)</td>\n",
       "      <td>Adventure|Children's</td>\n",
       "    </tr>\n",
       "    <tr>\n",
       "      <th>186</th>\n",
       "      <td>188</td>\n",
       "      <td>Prophecy, The (1995)</td>\n",
       "      <td>Horror</td>\n",
       "    </tr>\n",
       "    <tr>\n",
       "      <th>203</th>\n",
       "      <td>205</td>\n",
       "      <td>Unstrung Heroes (1995)</td>\n",
       "      <td>Comedy|Drama</td>\n",
       "    </tr>\n",
       "    <tr>\n",
       "      <th>225</th>\n",
       "      <td>228</td>\n",
       "      <td>Destiny Turns on the Radio (1995)</td>\n",
       "      <td>Comedy</td>\n",
       "    </tr>\n",
       "    <tr>\n",
       "      <th>...</th>\n",
       "      <td>...</td>\n",
       "      <td>...</td>\n",
       "      <td>...</td>\n",
       "    </tr>\n",
       "    <tr>\n",
       "      <th>2882</th>\n",
       "      <td>2951</td>\n",
       "      <td>Fistful of Dollars, A (1964)</td>\n",
       "      <td>Action|Western</td>\n",
       "    </tr>\n",
       "    <tr>\n",
       "      <th>3019</th>\n",
       "      <td>3088</td>\n",
       "      <td>Harvey (1950)</td>\n",
       "      <td>Comedy</td>\n",
       "    </tr>\n",
       "    <tr>\n",
       "      <th>3310</th>\n",
       "      <td>3379</td>\n",
       "      <td>On the Beach (1959)</td>\n",
       "      <td>Drama</td>\n",
       "    </tr>\n",
       "    <tr>\n",
       "      <th>3426</th>\n",
       "      <td>3495</td>\n",
       "      <td>Roadside Prophets (1992)</td>\n",
       "      <td>Comedy|Drama</td>\n",
       "    </tr>\n",
       "    <tr>\n",
       "      <th>3808</th>\n",
       "      <td>3878</td>\n",
       "      <td>X: The Unknown (1956)</td>\n",
       "      <td>Sci-Fi</td>\n",
       "    </tr>\n",
       "  </tbody>\n",
       "</table>\n",
       "<p>78 rows × 3 columns</p>\n",
       "</div>"
      ],
      "text/plain": [
       "      movie_id                              title                genres\n",
       "30          31             Dangerous Minds (1995)                 Drama\n",
       "156        158                      Casper (1995)  Adventure|Children's\n",
       "186        188               Prophecy, The (1995)                Horror\n",
       "203        205             Unstrung Heroes (1995)          Comedy|Drama\n",
       "225        228  Destiny Turns on the Radio (1995)                Comedy\n",
       "...        ...                                ...                   ...\n",
       "2882      2951       Fistful of Dollars, A (1964)        Action|Western\n",
       "3019      3088                      Harvey (1950)                Comedy\n",
       "3310      3379                On the Beach (1959)                 Drama\n",
       "3426      3495           Roadside Prophets (1992)          Comedy|Drama\n",
       "3808      3878              X: The Unknown (1956)                Sci-Fi\n",
       "\n",
       "[78 rows x 3 columns]"
      ]
     },
     "execution_count": 39,
     "metadata": {},
     "output_type": "execute_result"
    }
   ],
   "source": [
    "movies[movies[\"movie_id\"].isin(movie_ids.numpy().ravel())]"
   ]
  },
  {
   "cell_type": "markdown",
   "id": "96d4ffcb",
   "metadata": {},
   "source": [
    "### Next Token Prediction\n",
    "\n",
    "A simple way to get the topmost movie recommended is to get the token corresponding to the maximum probability. We apply softmax to the logits to get the probability and use `argmax` to get the corresponding token."
   ]
  },
  {
   "cell_type": "code",
   "execution_count": 40,
   "id": "2201fbf5",
   "metadata": {},
   "outputs": [
    {
     "name": "stderr",
     "output_type": "stream",
     "text": [
      "/tmp/ipykernel_8800/2246622193.py:1: FutureWarning: You are using `torch.load` with `weights_only=False` (the current default value), which uses the default pickle module implicitly. It is possible to construct malicious pickle data which will execute arbitrary code during unpickling (See https://github.com/pytorch/pytorch/blob/main/SECURITY.md#untrusted-models for more details). In a future release, the default value for `weights_only` will be flipped to `True`. This limits the functions that could be executed during unpickling. Arbitrary objects will no longer be allowed to be loaded via this mode unless they are explicitly allowlisted by the user via `torch.serialization.add_safe_globals`. We recommend you start setting `weights_only=True` for any use case where you don't have full control of the loaded file. Please open an issue on GitHub for any issues related to this experimental feature.\n",
      "  trained_model_state_dict = torch.load(\"./models/model_1000e_512_32_32_4_4.pth\")\n",
      "2025-07-10 12:56:17.428 | INFO     | model_train:get_model_config:103 - Model config:\n",
      " ========== \n",
      "MovieLensTransformerConfig(movie_transformer_config=TransformerConfig(vocab_size=3885, context_window_size=5, embedding_dimension=32, num_layers=4, num_heads=4, dropout_embeddings=0.1, dropout_attention=0.1, dropout_residual=0.1, layer_norm_epsilon=1e-05), user_embedding_dimension=32, num_users=6040, interaction_mlp_hidden_sizes=[16]) \n",
      " ==========\n"
     ]
    }
   ],
   "source": [
    "trained_model_state_dict = torch.load(\"./models/model_1000e_512_32_32_4_4.pth\")\n",
    "model_config = get_model_config(config, test_dataset)\n",
    "trained_model = MovieLensTransformer(model_config)\n",
    "trained_model.load_state_dict(trained_model_state_dict)\n",
    "\n",
    "\n",
    "def predict_next_movie(model, movie_ids, user_ids):\n",
    "    model.eval()\n",
    "    logits = model(movie_ids=movie_ids, user_ids=user_ids)\n",
    "    probabilities = F.softmax(logits, dim=-1)\n",
    "    predicted_movie_ids = torch.argmax(probabilities, dim=-1)\n",
    "    print(predicted_movie_ids)\n",
    "    return predicted_movie_ids"
   ]
  },
  {
   "cell_type": "code",
   "execution_count": 41,
   "id": "25603b04",
   "metadata": {},
   "outputs": [
    {
     "name": "stdout",
     "output_type": "stream",
     "text": [
      "tensor([2381, 2847,    2,   93, 2300, 3460,  588,  583,  651, 2401, 2789, 2428,\n",
      "         584, 1575, 1023,  351])\n"
     ]
    }
   ],
   "source": [
    "predicted_movie_ids = predict_next_movie(trained_model, movie_ids, user_ids)"
   ]
  },
  {
   "cell_type": "markdown",
   "id": "5a885ec1",
   "metadata": {},
   "source": [
    "Let's visualize these prediction using our movie posters:"
   ]
  },
  {
   "cell_type": "code",
   "execution_count": 42,
   "id": "c8259840",
   "metadata": {},
   "outputs": [
    {
     "data": {
      "text/plain": [
       "tensor([[1763, 2379, 2632, 1352, 1984, 2381],\n",
       "        [1852, 2847, 1081,   31, 1543, 2847],\n",
       "        [1050,  228,  516, 2655,  817,    2],\n",
       "        [1356, 1556,  349, 2951,  372,   93],\n",
       "        [1931, 1019, 2233, 1429, 2178, 2300],\n",
       "        [1548,  363, 1444,  986, 2916, 3460],\n",
       "        [ 188, 2872,  427, 2315, 1278,  588],\n",
       "        [1854,  360, 2428,  230, 2358,  583],\n",
       "        [2559, 1534, 2126, 1084, 1499,  651],\n",
       "        [1085, 2401, 1942, 3379, 1932, 2401],\n",
       "        [2063, 2557, 1291,  510, 2429, 2789],\n",
       "        [1819, 1430,  267,  205, 1564, 2428],\n",
       "        [1482, 1726, 3088, 2252, 2286,  584],\n",
       "        [2269, 2038,  589, 3878, 1575, 1575],\n",
       "        [ 158, 2335,  542, 2125,  453, 1023],\n",
       "        [ 431, 3495, 1471, 1600, 1969,  351]])"
      ]
     },
     "execution_count": 42,
     "metadata": {},
     "output_type": "execute_result"
    }
   ],
   "source": [
    "merged = torch.cat([movie_ids, predicted_movie_ids.view(-1, 1)], dim=1)\n",
    "merged"
   ]
  },
  {
   "cell_type": "code",
   "execution_count": 43,
   "id": "f677a67b",
   "metadata": {},
   "outputs": [],
   "source": [
    "rows, columns = merged.shape\n",
    "movie_image_files = []\n",
    "\n",
    "token_to_movie = {v: k for k, v in test_dataset.metadata.movie_id_tokens.items()}\n",
    "for row in range(rows):\n",
    "    movie_image_files.append(\n",
    "        [\n",
    "            f\"./data/posters/{token_to_movie[image_token.item()]}.jpg\"\n",
    "            for image_token in merged[row]\n",
    "        ]\n",
    "    )"
   ]
  },
  {
   "cell_type": "code",
   "execution_count": 44,
   "id": "a36af6be",
   "metadata": {},
   "outputs": [
    {
     "data": {
      "image/png": "[encoded data removed]",
      "text/plain": [
       "<Figure size 1800x500 with 6 Axes>"
      ]
     },
     "metadata": {},
     "output_type": "display_data"
    },
    {
     "data": {
      "image/png": "[encoded data removed]",
      "text/plain": [
       "<Figure size 1800x500 with 6 Axes>"
      ]
     },
     "metadata": {},
     "output_type": "display_data"
    },
    {
     "data": {
      "image/png": "[encoded data removed]",
      "text/plain": [
       "<Figure size 1800x500 with 6 Axes>"
      ]
     },
     "metadata": {},
     "output_type": "display_data"
    },
    {
     "data": {
      "image/png": "[encoded data removed]",
      "text/plain": [
       "<Figure size 1800x500 with 6 Axes>"
      ]
     },
     "metadata": {},
     "output_type": "display_data"
    },
    {
     "data": {
      "image/png": "[encoded data removed]",
      "text/plain": [
       "<Figure size 1800x500 with 6 Axes>"
      ]
     },
     "metadata": {},
     "output_type": "display_data"
    },
    {
     "data": {
      "image/png": "[encoded data removed]",
      "text/plain": [
       "<Figure size 1800x500 with 6 Axes>"
      ]
     },
     "metadata": {},
     "output_type": "display_data"
    },
    {
     "data": {
      "image/png": "[encoded data removed]",
      "text/plain": [
       "<Figure size 1800x500 with 6 Axes>"
      ]
     },
     "metadata": {},
     "output_type": "display_data"
    },
    {
     "data": {
      "image/png": "[encoded data removed]",
      "text/plain": [
       "<Figure size 1800x500 with 6 Axes>"
      ]
     },
     "metadata": {},
     "output_type": "display_data"
    },
    {
     "data": {
      "image/png": "[encoded data removed]",
      "text/plain": [
       "<Figure size 1800x500 with 6 Axes>"
      ]
     },
     "metadata": {},
     "output_type": "display_data"
    },
    {
     "data": {
      "image/png": "[encoded data removed]",
      "text/plain": [
       "<Figure size 1800x500 with 6 Axes>"
      ]
     },
     "metadata": {},
     "output_type": "display_data"
    },
    {
     "data": {
      "image/png": "[encoded data removed]",
      "text/plain": [
       "<Figure size 1800x500 with 6 Axes>"
      ]
     },
     "metadata": {},
     "output_type": "display_data"
    },
    {
     "data": {
      "image/png": "[encoded data removed]",
      "text/plain": [
       "<Figure size 1800x500 with 6 Axes>"
      ]
     },
     "metadata": {},
     "output_type": "display_data"
    },
    {
     "data": {
      "image/png": "[encoded data removed]",
      "text/plain": [
       "<Figure size 1800x500 with 6 Axes>"
      ]
     },
     "metadata": {},
     "output_type": "display_data"
    },
    {
     "data": {
      "image/png": "[encoded data removed]",
      "text/plain": [
       "<Figure size 1800x500 with 6 Axes>"
      ]
     },
     "metadata": {},
     "output_type": "display_data"
    },
    {
     "data": {
      "image/png": "[encoded data removed]",
      "text/plain": [
       "<Figure size 1800x500 with 6 Axes>"
      ]
     },
     "metadata": {},
     "output_type": "display_data"
    },
    {
     "data": {
      "image/png": "[encoded data removed]",
      "text/plain": [
       "<Figure size 1800x500 with 6 Axes>"
      ]
     },
     "metadata": {},
     "output_type": "display_data"
    }
   ],
   "source": [
    "import os\n",
    "\n",
    "for image_row in movie_image_files:\n",
    "    fig, axs = plt.subplots(1, columns, figsize=(18, 5))\n",
    "    for i, (ax, img) in enumerate(zip(axs.flat, image_row)):\n",
    "        if os.path.exists(img):\n",
    "            ax.imshow(imread(img))\n",
    "        if i == columns - 1:\n",
    "            ax.patch.set_edgecolor(\"red\")\n",
    "            ax.patch.set_linewidth(3)\n",
    "        # ax.axis(\"off\")  # Turn off axis\n",
    "        ax.set_aspect(\"equal\")\n",
    "        ax.set_title(os.path.basename(img).split(\".\")[0])\n",
    "        ax.get_xaxis().set_visible(False)\n",
    "        ax.get_yaxis().set_visible(False)\n",
    "    plt.subplots_adjust(wspace=0, hspace=0)\n",
    "    plt.show()"
   ]
  },
  {
   "cell_type": "markdown",
   "id": "9db76d57",
   "metadata": {},
   "source": [
    "## Metrics\n",
    "\n",
    "In reality, we will recommend a few movies to the user and not just one. In addition, if we are using this model as a retreival model, we would get a few recommendations to feed it to the (re)-ranker.\n",
    "\n",
    "Next, we will look at the quality of the model predictions. There are several different categories of metrics that we can look at.\n",
    "\n",
    "### Prediction Quality\n",
    "\n",
    "To assess whether the model is making accurate predictions, the common metrics that are used include:\n",
    "\n",
    "- Precision @ K\n",
    "- Recall @ K\n",
    "- F-score\n",
    "\n",
    "### Ranking Quality\n",
    "\n",
    "To assess the quality of ranked results, common metrics include:\n",
    "\n",
    "- MRR (Mean Reciprocal Rank)\n",
    "- MAP (Mean Average Precision)\n",
    "- Hit Rate @ K\n",
    "- NDCG (Normalized Discounted Cumulative Gain)\n",
    "\n",
    "### Behavioral\n",
    "\n",
    "To further improve user experience, few metrics that go beyond just model accuracy include:\n",
    "\n",
    "- Diversity\n",
    "- Novelty\n",
    "- Serendipity\n",
    "- Popularity Bias\n"
   ]
  },
  {
   "cell_type": "markdown",
   "id": "8d72deda",
   "metadata": {},
   "source": [
    "## Baseline Model\n",
    "\n",
    "To compare our current model, we need a baseline prediction model. As a baseline, we can suggest just the most popular movies to the user i.e. show the movies with highest average ratings that the user hasn't seen. We can also add restrictions around movies that have been rated the most such that averages are statistically significant."
   ]
  },
  {
   "cell_type": "code",
   "execution_count": 45,
   "id": "0bea0f4b",
   "metadata": {},
   "outputs": [
    {
     "data": {
      "text/plain": [
       "[318, 858, 50, 527, 1198]"
      ]
     },
     "execution_count": 45,
     "metadata": {},
     "output_type": "execute_result"
    }
   ],
   "source": [
    "ratings = pd.read_csv(\n",
    "    \"./data/ml-1m/ratings.dat\",\n",
    "    sep=\"::\",\n",
    "    names=[\"user_id\", \"movie_id\", \"rating\", \"unix_timestamp\"],\n",
    "    encoding=\"ISO-8859-1\",\n",
    "    engine=\"python\",\n",
    "    dtype={\n",
    "        \"user_id\": np.int32,\n",
    "        \"movie_id\": np.int32,\n",
    "        \"rating\": np.float16,\n",
    "        \"unix_timestamp\": np.int32,\n",
    "    },\n",
    ")\n",
    "rating_counts = ratings[\"movie_id\"].value_counts().reset_index()\n",
    "rating_counts.columns = [\"movie_id\", \"rating_count\"]\n",
    "\n",
    "# Get the most frequently rated movies\n",
    "min_ratings_threshold = rating_counts[\"rating_count\"].quantile(0.95)\n",
    "\n",
    "# Filter movies based on the minimum number of ratings\n",
    "popular_movies = ratings.merge(rating_counts, on=\"movie_id\")\n",
    "popular_movies = popular_movies[popular_movies[\"rating_count\"] >= min_ratings_threshold]\n",
    "\n",
    "# Calculate the average rating for each movie\n",
    "average_ratings = popular_movies.groupby(\"movie_id\")[\"rating\"].mean().reset_index()\n",
    "\n",
    "# Get the top 5 rated movies\n",
    "top_5_movies = list(\n",
    "    average_ratings.sort_values(\"rating\", ascending=False).head(5).movie_id.values\n",
    ")\n",
    "top_5_movies"
   ]
  },
  {
   "cell_type": "code",
   "execution_count": 46,
   "id": "6e455ab4",
   "metadata": {},
   "outputs": [
    {
     "data": {
      "image/png": "[encoded data removed]",
      "text/plain": [
       "<Figure size 1500x500 with 5 Axes>"
      ]
     },
     "metadata": {},
     "output_type": "display_data"
    }
   ],
   "source": [
    "fig, axs = plt.subplots(1, len(top_5_movies), figsize=(15, 5))\n",
    "for i, (ax, image_id) in enumerate(zip(axs.flat, top_5_movies)):\n",
    "    img = f\"/mnt/metaverse-nas/movielens/mlp-20m/MLP-20M/{image_id}.jpg\"\n",
    "    if os.path.exists(img):\n",
    "        ax.imshow(imread(img))\n",
    "    ax.set_aspect(\"equal\")\n",
    "    ax.set_title(os.path.basename(img).split(\".\")[0])\n",
    "    ax.get_xaxis().set_visible(False)\n",
    "    ax.get_yaxis().set_visible(False)\n",
    "plt.subplots_adjust(wspace=0, hspace=0)\n",
    "plt.show()"
   ]
  },
  {
   "cell_type": "markdown",
   "id": "43f14967",
   "metadata": {},
   "source": [
    "In the next section, we will calculate the Ranking Quality metrics to see relative performance of our transformer model vs the popular movie heuristics.\n",
    "\n",
    "We will assume that the model will return K items (movies) based on a score for a few values of K - let's say K = 3, 5, 10. We will measure the ranking quality of these K items based on the relevant items returned.\n",
    "\n",
    "test  code on a small batch."
   ]
  },
  {
   "cell_type": "code",
   "execution_count": 47,
   "id": "952f2799",
   "metadata": {},
   "outputs": [
    {
     "name": "stderr",
     "output_type": "stream",
     "text": [
      "2025-07-10 12:56:22.491 | INFO     | data:__init__:89 - Creating MovieLensSequenceDataset with validation set: %s\n",
      "2025-07-10 12:56:22.493 | INFO     | data:read_movielens_data:12 - Reading data from files\n",
      "2025-07-10 12:56:25.208 | INFO     | data:_add_tokens:140 - Adding tokens to data\n",
      "2025-07-10 12:56:25.259 | INFO     | data:_generate_sequences:159 - Generating sequences\n",
      "2025-07-10 12:56:26.313 | INFO     | data:__init__:110 - Train data length: 883799\n",
      "2025-07-10 12:56:26.313 | INFO     | data:__init__:111 - Validation data length: 98290\n"
     ]
    },
    {
     "name": "stdout",
     "output_type": "stream",
     "text": [
      "tensor([[1360, 2314, 2313, 3621, 1192],\n",
      "        [3682, 3441, 1539,  263,  520],\n",
      "        [1227, 1264,  901, 1247, 3366],\n",
      "        [1353, 1178,  257, 1220, 1250]], dtype=torch.int32)\n",
      "tensor([1271, 3724, 1232, 1196], dtype=torch.int32)\n"
     ]
    }
   ],
   "source": [
    "k_values = [3, 5, 10]\n",
    "batch_size = 4\n",
    "sequence_length = 5\n",
    "valid_dataset = MovieLensSequenceDataset(\n",
    "    movies_file=\"./data/ml-1m/movies.dat\",\n",
    "    users_file=\"./data/ml-1m/users.dat\",\n",
    "    ratings_file=\"./data/ml-1m/ratings.dat\",\n",
    "    sequence_length=sequence_length,\n",
    "    window_size=1,\n",
    "    is_validation=True,\n",
    ")\n",
    "valid_dataloader = DataLoader(valid_dataset, batch_size=batch_size, shuffle=True)\n",
    "torch.random.manual_seed(3128)\n",
    "valid_batch = next(iter(valid_dataloader))\n",
    "(\n",
    "    movie_id_tokens,\n",
    "    rating_id_tokens,\n",
    "    user_id_tokens,\n",
    "    output_movie_id_tokens,\n",
    "    output_rating_id_tokens,\n",
    ") = valid_batch\n",
    "print(movie_id_tokens)\n",
    "print(output_movie_id_tokens)"
   ]
  },
  {
   "cell_type": "markdown",
   "id": "02bb64b9",
   "metadata": {},
   "source": [
    "For getting the movie predictions from our model, we have added a new function.\n",
    "\n",
    "```python\n",
    "\n",
    "def get_model_predictions(\n",
    "    model: nn.Module,\n",
    "    movie_id_tokens: torch.Tensor,\n",
    "    user_id_tokens: torch.Tensor,\n",
    "    n: int,\n",
    "):\n",
    "    with torch.no_grad():\n",
    "        # batch x num_tokens\n",
    "        output = model(movie_id_tokens, user_id_tokens)\n",
    "\n",
    "    # get top k predictions\n",
    "    # we work with the top n + movie_id_tokens.shape[-1] to ensure\n",
    "    # that we do not recommended the movies that the user has already seen\n",
    "    _, top_tokens = output.topk(n + movie_id_tokens.shape[-1], dim=-1)\n",
    "\n",
    "    for row in range(top_tokens.shape[0]):\n",
    "        merged, counts = torch.cat((top_tokens[row], movie_id_tokens[row])).unique(\n",
    "            return_counts=True\n",
    "        )\n",
    "        intersection = merged[torch.where(counts.gt(1))]\n",
    "        top_tokens[row, :n] = top_tokens[row][\n",
    "            torch.isin(top_tokens[row], intersection, invert=True)\n",
    "        ][:n]\n",
    "    return top_tokens[:, :n]\n",
    "\n",
    "```\n",
    "\n",
    "To generate the relevancy of the output, we have another function:\n",
    "\n",
    "```python\n",
    "def calculate_relevance(predictions, targets):\n",
    "    return (predictions == targets.unsqueeze(1)).float()\n",
    "```"
   ]
  },
  {
   "cell_type": "code",
   "execution_count": 48,
   "id": "92550c6c",
   "metadata": {},
   "outputs": [
    {
     "name": "stdout",
     "output_type": "stream",
     "text": [
      "Reciprocal Rank @ 3: Baseline: 0.0\n",
      "Reciprocal Rank @ 3: Model: 0.125\n",
      "Mean Average Precision @ 3: Baseline: 0.0\n",
      "Mean Average Precision @ 3: Model: 0.0833333358168602\n",
      "NDCG @ 3: Baseline: 0.0\n",
      "NDCG @ 3: Model: 0.15773243839286433\n",
      "---------------------------------------------------\n",
      "Reciprocal Rank @ 5: Baseline: 0.0\n",
      "Reciprocal Rank @ 5: Model: 0.125\n",
      "Mean Average Precision @ 5: Baseline: 0.0\n",
      "Mean Average Precision @ 5: Model: 0.05000000074505806\n",
      "NDCG @ 5: Baseline: 0.0\n",
      "NDCG @ 5: Model: 0.15773243839286433\n",
      "---------------------------------------------------\n",
      "Reciprocal Rank @ 10: Baseline: 0.0\n",
      "Reciprocal Rank @ 10: Model: 0.1840277761220932\n",
      "Mean Average Precision @ 10: Baseline: 0.0\n",
      "Mean Average Precision @ 10: Model: 0.07500000298023224\n",
      "NDCG @ 10: Baseline: 0.0\n",
      "NDCG @ 10: Model: 0.31185615650529175\n",
      "---------------------------------------------------\n"
     ]
    }
   ],
   "source": [
    "for k in k_values:\n",
    "    baseline_reciprocal_rank = torch.zeros(batch_size)\n",
    "    model_reciprocal_rank = torch.zeros(batch_size)\n",
    "    popular_movies_df = get_popular_movies(\n",
    "        ratings_file=\"./data/ml-1m/ratings.dat\", n=k + sequence_length\n",
    "    )\n",
    "    baseline_predictions = get_popular_movie_predictions(\n",
    "        popular_movies_df, movie_id_tokens, n=k, batch_size=batch_size\n",
    "    )\n",
    "    model_predictions = get_model_predictions(\n",
    "        trained_model, movie_id_tokens, user_id_tokens, n=k\n",
    "    )\n",
    "\n",
    "    baseline_relevance = calculate_relevance(\n",
    "        baseline_predictions.predictions, output_movie_id_tokens\n",
    "    )\n",
    "    model_relevance = calculate_relevance(\n",
    "        model_predictions.predictions, output_movie_id_tokens\n",
    "    )\n",
    "\n",
    "    baseline_relevant_index = torch.where(baseline_relevance == 1)\n",
    "    model_relevant_index = torch.where(model_relevance == 1)\n",
    "\n",
    "    # calculate the metrics\n",
    "    baseline_reciprocal_rank[baseline_relevant_index[0]] = 1 / (\n",
    "        baseline_relevant_index[1].float() + 1\n",
    "    )\n",
    "    model_reciprocal_rank[model_relevant_index[0]] = 1 / (\n",
    "        model_relevant_index[1].float() + 1\n",
    "    )\n",
    "    print(f\"Reciprocal Rank @ {k}: Baseline: {baseline_reciprocal_rank.mean()}\")\n",
    "    print(f\"Reciprocal Rank @ {k}: Model: {model_reciprocal_rank.mean()}\")\n",
    "\n",
    "    # Calculate the mean average precision\n",
    "    # since there could only be one relevant item in the predictions\n",
    "    # precision = relevance_for_row.sum() / k\n",
    "    baseline_map = baseline_relevance.sum(dim=1) / k\n",
    "    model_map = model_relevance.sum(dim=1) / k\n",
    "\n",
    "    print(f\"Mean Average Precision @ {k}: Baseline: {baseline_map.mean()}\")\n",
    "    print(f\"Mean Average Precision @ {k}: Model: {model_map.mean()}\")\n",
    "\n",
    "    # Calculate the NDCG\n",
    "    baseline_ndcg = ndcg_score(baseline_relevance, baseline_predictions.scores, k=k)\n",
    "    model_ndcg = ndcg_score(model_relevance, model_predictions.scores, k=k)\n",
    "\n",
    "    print(f\"NDCG @ {k}: Baseline: {baseline_ndcg}\")\n",
    "    print(f\"NDCG @ {k}: Model: {model_ndcg}\")\n",
    "\n",
    "    print(\"---------------------------------------------------\")"
   ]
  },
  {
   "cell_type": "markdown",
   "id": "6cabe8ca",
   "metadata": {},
   "source": [
    " add a function for this and generate for the full validation set"
   ]
  },
  {
   "cell_type": "code",
   "execution_count": 49,
   "id": "54d2ee70",
   "metadata": {},
   "outputs": [
    {
     "name": "stderr",
     "output_type": "stream",
     "text": [
      "2025-07-10 12:56:34.283 | INFO     | data:__init__:89 - Creating MovieLensSequenceDataset with validation set: %s\n",
      "2025-07-10 12:56:34.284 | INFO     | data:read_movielens_data:12 - Reading data from files\n",
      "2025-07-10 12:56:36.826 | INFO     | data:_add_tokens:140 - Adding tokens to data\n",
      "2025-07-10 12:56:36.881 | INFO     | data:_generate_sequences:159 - Generating sequences\n",
      "2025-07-10 12:56:38.118 | INFO     | data:__init__:110 - Train data length: 884128\n",
      "2025-07-10 12:56:38.119 | INFO     | data:__init__:111 - Validation data length: 97961\n"
     ]
    },
    {
     "name": "stdout",
     "output_type": "stream",
     "text": [
      "[Baseline] Reciprocal Rank @ 3:        0.00014801809447817504\n",
      "[Model]    Reciprocal Rank @ 3:        0.07903826236724854\n",
      "[Baseline] Mean Average Precision @ 3: 0.0001837465970311314\n",
      "[Model]    Mean Average Precision @ 3: 0.12025193870067596\n",
      "[Baseline] NDCG @ 3:                   0.00015737393733220568\n",
      "[Model]    NDCG @ 3:                   0.0895683077691279\n",
      "---------------------------------------------------\n",
      "[Baseline] Reciprocal Rank @ 5:        0.00025316199753433466\n",
      "[Model]    Reciprocal Rank @ 5:        0.09153863787651062\n",
      "[Baseline] Mean Average Precision @ 5: 0.0006226967670954764\n",
      "[Model]    Mean Average Precision @ 5: 0.1755494475364685\n",
      "[Baseline] NDCG @ 5:                   0.0003423932637948411\n",
      "[Model]    NDCG @ 5:                   0.11222320211899761\n",
      "---------------------------------------------------\n",
      "[Baseline] Reciprocal Rank @ 10:        0.0005179134896025062\n",
      "[Model]    Reciprocal Rank @ 10:        0.10491031408309937\n",
      "[Baseline] Mean Average Precision @ 10: 0.0027868233155459166\n",
      "[Model]    Mean Average Precision @ 10: 0.2770592272281647\n",
      "[Baseline] NDCG @ 10:                   0.0010189431044526523\n",
      "[Model]    NDCG @ 10:                   0.1448726344227936\n",
      "---------------------------------------------------\n"
     ]
    }
   ],
   "source": [
    "batch_size = 512\n",
    "sequence_length = 5\n",
    "valid_dataset = MovieLensSequenceDataset(\n",
    "    movies_file=\"./data/ml-1m/movies.dat\",\n",
    "    users_file=\"./data/ml-1m/users.dat\",\n",
    "    ratings_file=\"./data/ml-1m/ratings.dat\",\n",
    "    sequence_length=sequence_length,\n",
    "    window_size=1,\n",
    "    is_validation=True,\n",
    ")\n",
    "# shuffle doesnt matter for calculating metrics\n",
    "valid_dataloader = DataLoader(valid_dataset, batch_size=batch_size, shuffle=False)\n",
    "\n",
    "\n",
    "metrics = {}\n",
    "\n",
    "for k in k_values:\n",
    "    # we would torch.cat these later\n",
    "    baseline_relevances = []\n",
    "    model_relevances = []\n",
    "    baseline_scores = []\n",
    "    model_scores = []\n",
    "\n",
    "    popular_movies_df = get_popular_movies(\n",
    "        ratings_file=\"./data/ml-1m/ratings.dat\", n=k + sequence_length\n",
    "    )\n",
    "    for batch in valid_dataloader:\n",
    "        (\n",
    "            movie_id_tokens,\n",
    "            rating_id_tokens,\n",
    "            user_id_tokens,\n",
    "            output_movie_id_tokens,\n",
    "            output_rating_id_tokens,\n",
    "        ) = batch\n",
    "        baseline_predictions = get_popular_movie_predictions(\n",
    "            popular_movies_df, movie_id_tokens, n=k, batch_size=movie_id_tokens.shape[0]\n",
    "        )\n",
    "        model_predictions = get_model_predictions(\n",
    "            trained_model, movie_id_tokens, user_id_tokens, n=k\n",
    "        )\n",
    "        baseline_relevance = calculate_relevance(\n",
    "            baseline_predictions.predictions, output_movie_id_tokens\n",
    "        )\n",
    "        model_relevance = calculate_relevance(\n",
    "            model_predictions.predictions, output_movie_id_tokens\n",
    "        )\n",
    "        baseline_relevances.append(baseline_relevance)\n",
    "        model_relevances.append(model_relevance)\n",
    "        baseline_scores.append(baseline_predictions.scores)\n",
    "        model_scores.append(model_predictions.scores)\n",
    "\n",
    "    baseline_relevances_tensor = torch.cat(baseline_relevances)\n",
    "    model_relevances_tensor = torch.cat(model_relevances)\n",
    "    baseline_scores_tensor = torch.cat(baseline_scores)\n",
    "    model_scores_tensor = torch.cat(model_scores)\n",
    "\n",
    "    # Calculate the metrics\n",
    "    baseline_metrics = calculate_metrics(\n",
    "        baseline_relevances_tensor, baseline_scores_tensor\n",
    "    )\n",
    "    model_metrics = calculate_metrics(model_relevances_tensor, model_scores_tensor)\n",
    "\n",
    "    metrics[k] = (baseline_metrics, model_metrics)\n",
    "\n",
    "    print(f\"[Baseline] Reciprocal Rank @ {k}:        {baseline_metrics.MRR}\")\n",
    "    print(f\"[Model]    Reciprocal Rank @ {k}:        {model_metrics.MRR}\")\n",
    "    print(f\"[Baseline] Mean Average Precision @ {k}: {baseline_metrics.MAP}\")\n",
    "    print(f\"[Model]    Mean Average Precision @ {k}: {model_metrics.MAP}\")\n",
    "    print(f\"[Baseline] NDCG @ {k}:                   {baseline_metrics.NDCG}\")\n",
    "    print(f\"[Model]    NDCG @ {k}:                   {model_metrics.NDCG}\")\n",
    "    print(\"---------------------------------------------------\")"
   ]
  },
  {
   "cell_type": "code",
   "execution_count": 50,
   "id": "251d13b0",
   "metadata": {},
   "outputs": [
    {
     "data": {
      "text/html": [
       "<div>\n",
       "<style scoped>\n",
       "    .dataframe tbody tr th:only-of-type {\n",
       "        vertical-align: middle;\n",
       "    }\n",
       "\n",
       "    .dataframe tbody tr th {\n",
       "        vertical-align: top;\n",
       "    }\n",
       "\n",
       "    .dataframe thead th {\n",
       "        text-align: right;\n",
       "    }\n",
       "</style>\n",
       "<table border=\"1\" class=\"dataframe\">\n",
       "  <thead>\n",
       "    <tr style=\"text-align: right;\">\n",
       "      <th></th>\n",
       "      <th>k</th>\n",
       "      <th>baseline_mrr</th>\n",
       "      <th>model_mrr</th>\n",
       "      <th>baseline_map</th>\n",
       "      <th>model_map</th>\n",
       "      <th>baseline_ndcg</th>\n",
       "      <th>model_ndcg</th>\n",
       "    </tr>\n",
       "  </thead>\n",
       "  <tbody>\n",
       "    <tr>\n",
       "      <th>0</th>\n",
       "      <td>3</td>\n",
       "      <td>0.000148</td>\n",
       "      <td>0.079038</td>\n",
       "      <td>0.000184</td>\n",
       "      <td>0.120252</td>\n",
       "      <td>0.000157</td>\n",
       "      <td>0.089568</td>\n",
       "    </tr>\n",
       "    <tr>\n",
       "      <th>1</th>\n",
       "      <td>5</td>\n",
       "      <td>0.000253</td>\n",
       "      <td>0.091539</td>\n",
       "      <td>0.000623</td>\n",
       "      <td>0.175549</td>\n",
       "      <td>0.000342</td>\n",
       "      <td>0.112223</td>\n",
       "    </tr>\n",
       "    <tr>\n",
       "      <th>2</th>\n",
       "      <td>10</td>\n",
       "      <td>0.000518</td>\n",
       "      <td>0.104910</td>\n",
       "      <td>0.002787</td>\n",
       "      <td>0.277059</td>\n",
       "      <td>0.001019</td>\n",
       "      <td>0.144873</td>\n",
       "    </tr>\n",
       "  </tbody>\n",
       "</table>\n",
       "</div>"
      ],
      "text/plain": [
       "    k  baseline_mrr  model_mrr  baseline_map  model_map  baseline_ndcg  \\\n",
       "0   3      0.000148   0.079038      0.000184   0.120252       0.000157   \n",
       "1   5      0.000253   0.091539      0.000623   0.175549       0.000342   \n",
       "2  10      0.000518   0.104910      0.002787   0.277059       0.001019   \n",
       "\n",
       "   model_ndcg  \n",
       "0    0.089568  \n",
       "1    0.112223  \n",
       "2    0.144873  "
      ]
     },
     "execution_count": 50,
     "metadata": {},
     "output_type": "execute_result"
    }
   ],
   "source": [
    "metrics_df = pd.DataFrame(\n",
    "    [\n",
    "        {\n",
    "            \"k\": k,\n",
    "            \"baseline_mrr\": v[0].MRR,\n",
    "            \"model_mrr\": v[1].MRR,\n",
    "            \"baseline_map\": v[0].MAP,\n",
    "            \"model_map\": v[1].MAP,\n",
    "            \"baseline_ndcg\": v[0].NDCG,\n",
    "            \"model_ndcg\": v[1].NDCG,\n",
    "        }\n",
    "        for k, v in metrics.items()\n",
    "    ]\n",
    ")\n",
    "metrics_df"
   ]
  },
  {
   "cell_type": "markdown",
   "id": "16b63807",
   "metadata": {},
   "source": [
    "From the results, we can see that our model is way way better than just suggesting the top k movies by ratings. "
   ]
  }
 ],
 "metadata": {
  "kernelspec": {
   "display_name": ".movieenv",
   "language": "python",
   "name": "python3"
  },
  "language_info": {
   "codemirror_mode": {
    "name": "ipython",
    "version": 3
   },
   "file_extension": ".py",
   "mimetype": "text/x-python",
   "name": "python",
   "nbconvert_exporter": "python",
   "pygments_lexer": "ipython3",
   "version": "3.10.12"
  }
 },
 "nbformat": 4,
 "nbformat_minor": 5
}
